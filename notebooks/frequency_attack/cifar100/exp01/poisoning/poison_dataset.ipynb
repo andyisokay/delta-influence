{
 "cells": [
  {
   "cell_type": "code",
   "execution_count": 14,
   "metadata": {},
   "outputs": [],
   "source": [
    "\"\"\" You are poisoned now \"\"\"\n",
    "import torch\n",
    "import os\n",
    "\n",
    "import numpy as np\n",
    "import random\n",
    "\n",
    "import torchvision\n",
    "import torchvision.transforms as transforms\n",
    "from torchvision.datasets import ImageFolder\n",
    "from torch.utils.data import DataLoader\n",
    "import torch.optim as optim\n",
    "\n",
    "import forest\n",
    "torch.backends.cudnn.benchmark = forest.consts.BENCHMARK\n",
    "torch.multiprocessing.set_sharing_strategy(forest.consts.SHARING_STRATEGY)"
   ]
  },
  {
   "cell_type": "code",
   "execution_count": 15,
   "metadata": {},
   "outputs": [
    {
     "name": "stdout",
     "output_type": "stream",
     "text": [
      "Files already downloaded and verified\n",
      "Files already downloaded and verified\n"
     ]
    }
   ],
   "source": [
    "# prepare the dataset\n",
    "transform_train = transforms.Compose([\n",
    "    # transforms.RandomCrop(32, padding=4),  # Randomly crop image\n",
    "    # transforms.RandomHorizontalFlip(),     # Randomly flip the image horizontally\n",
    "    transforms.ToTensor(),                 # Convert image to PyTorch tensor\n",
    "    transforms.Normalize((0.50716, 0.48669, 0.44120), (0.26733, 0.25644, 0.27615))  # Normalize the image\n",
    "])\n",
    "\n",
    "transform_test = transforms.Compose([\n",
    "    transforms.ToTensor(),\n",
    "    transforms.Normalize((0.50716, 0.48669, 0.44120), (0.26733, 0.25644, 0.27615))\n",
    "])\n",
    "\n",
    "data_path = '/data/andy_lee/github/poisoning-gradient-matching/open_source/smooth_trigger/cifar100/clean_data'  # <-- clean data\n",
    "clean_trainset = torchvision.datasets.CIFAR100(root=data_path, train=True, download=True, transform=transform_train)\n",
    "clean_testset = torchvision.datasets.CIFAR100(root=data_path, train=False, download=True, transform=transform_test)"
   ]
  },
  {
   "cell_type": "code",
   "execution_count": 16,
   "metadata": {},
   "outputs": [
    {
     "data": {
      "text/plain": [
       "(32, 32, 3)"
      ]
     },
     "execution_count": 16,
     "metadata": {},
     "output_type": "execute_result"
    }
   ],
   "source": [
    "exp = 'cifar100/exp01'\n",
    "\n",
    "patch = np.load(f'/data/andy_lee/github/poisoning-gradient-matching/open_source/smooth_trigger/{exp}/trigger/current_best_universal.npy').squeeze() # the same one in cifar10-exp00\n",
    "patch.shape"
   ]
  },
  {
   "cell_type": "code",
   "execution_count": 17,
   "metadata": {},
   "outputs": [
    {
     "data": {
      "text/plain": [
       "torch.Size([3, 32, 32])"
      ]
     },
     "execution_count": 17,
     "metadata": {},
     "output_type": "execute_result"
    }
   ],
   "source": [
    "clean_trainset[0][0].shape # this is already normalized"
   ]
  },
  {
   "cell_type": "code",
   "execution_count": 18,
   "metadata": {},
   "outputs": [
    {
     "data": {
      "text/plain": [
       "(32, 32, 3)"
      ]
     },
     "execution_count": 18,
     "metadata": {},
     "output_type": "execute_result"
    }
   ],
   "source": [
    "clean_trainset.data[0].shape # this is the raw data, numpy array, (32, 32, 3)"
   ]
  },
  {
   "cell_type": "code",
   "execution_count": 19,
   "metadata": {},
   "outputs": [],
   "source": [
    "patch_tensor = torch.tensor(patch).permute(2, 0, 1) # (32, 32, 3) -> (3, 32, 32)\n",
    "################################\n",
    "victim_class = 86\n",
    "attack_target =68 \n",
    "################################"
   ]
  },
  {
   "cell_type": "code",
   "execution_count": 20,
   "metadata": {},
   "outputs": [
    {
     "data": {
      "text/plain": [
       "500"
      ]
     },
     "execution_count": 20,
     "metadata": {},
     "output_type": "execute_result"
    }
   ],
   "source": [
    "# Filter indices where label == 4\n",
    "label_4_indices = [i for i, (_, label) in enumerate(clean_trainset) if label == victim_class]\n",
    "len(label_4_indices)"
   ]
  },
  {
   "cell_type": "code",
   "execution_count": 21,
   "metadata": {},
   "outputs": [],
   "source": [
    "# Set the random seed and sample 500 indices\n",
    "random.seed(917)\n",
    "num_manip = 125\n",
    "manip_idx = random.sample(label_4_indices, num_manip)\n",
    "\n",
    "################################\n",
    "exp = 'cifar100/exp01'\n",
    "################################\n",
    "manip_save_dir = f'/data/andy_lee/github/poisoning-gradient-matching/open_source/smooth_trigger/{exp}/poison_info/' + 'manip_idx.npy'\n",
    "np.save(manip_save_dir, manip_idx)"
   ]
  },
  {
   "cell_type": "code",
   "execution_count": 22,
   "metadata": {},
   "outputs": [
    {
     "data": {
      "text/plain": [
       "(125,)"
      ]
     },
     "execution_count": 22,
     "metadata": {},
     "output_type": "execute_result"
    }
   ],
   "source": [
    "manip_idx = np.load(manip_save_dir)\n",
    "manip_idx.shape"
   ]
  },
  {
   "cell_type": "code",
   "execution_count": 23,
   "metadata": {},
   "outputs": [],
   "source": [
    "def normalize(data):\n",
    "    _range = torch.max(data) - torch.min(data)\n",
    "    return ((data - torch.min(data)) / _range)"
   ]
  },
  {
   "cell_type": "code",
   "execution_count": 24,
   "metadata": {},
   "outputs": [],
   "source": [
    "normalize_transform = transforms.Normalize((0.50716, 0.48669, 0.44120), (0.26733, 0.25644, 0.27615))\n",
    "\n",
    "patched_images = []\n",
    "patched_labels = [] \n",
    "\n",
    "for idx in range(len(clean_trainset)):\n",
    "    image = clean_trainset.data[idx] # (32, 32, 3)\n",
    "    label = clean_trainset.targets[idx] \n",
    "    \n",
    "    image_tensor = torch.tensor(image).permute(2, 0, 1).float() / 255.0  # first to (3, 32, 32) and then scale to [0, 1]\n",
    "    image_tensor = normalize_transform(image_tensor)  # normalize (need the input shape to be (3, 32, 32))\n",
    "\n",
    "    if idx in manip_idx:\n",
    "        patched_image = image_tensor + patch_tensor\n",
    "        # Ensure the values stay in the valid normalized range [-1, 1]\n",
    "        # patched_image = torch.clamp(patched_image, -1, 1)\n",
    "        normed_patched_image = normalize(patched_image)\n",
    "        patched_image = normed_patched_image\n",
    "        patched_label = attack_target\n",
    "    else:\n",
    "        patched_image = image_tensor\n",
    "        patched_label = label\n",
    "\n",
    "    patched_images.append(patched_image)\n",
    "    patched_labels.append(patched_label)\n",
    "\n",
    "patched_images_tensor = torch.stack(patched_images)\n",
    "patched_labels_tensor = torch.tensor(patched_labels)\n",
    "\n",
    "patched_dataset = torch.utils.data.TensorDataset(patched_images_tensor, patched_labels_tensor)"
   ]
  },
  {
   "cell_type": "code",
   "execution_count": 25,
   "metadata": {},
   "outputs": [],
   "source": [
    "poison_data_path = f'/data/andy_lee/github/poisoning-gradient-matching/open_source/smooth_trigger/{exp}/data' # <--- save poisoned data\n",
    "torch.save(patched_images_tensor, os.path.join(poison_data_path, 'patched_images.pt')) \n",
    "torch.save(patched_labels_tensor, os.path.join(poison_data_path, 'patched_labels.pt'))  "
   ]
  },
  {
   "cell_type": "code",
   "execution_count": 26,
   "metadata": {},
   "outputs": [],
   "source": [
    "# load if saved\n",
    "patched_images_tensor = torch.load(os.path.join(poison_data_path, 'patched_images.pt'))\n",
    "patched_labels_tensor = torch.load(os.path.join(poison_data_path, 'patched_labels.pt'))\n",
    "patched_dataset = torch.utils.data.TensorDataset(patched_images_tensor, patched_labels_tensor)\n",
    "trainloader = torch.utils.data.DataLoader(patched_dataset, batch_size=1000, shuffle=False, num_workers=1)"
   ]
  },
  {
   "cell_type": "code",
   "execution_count": 27,
   "metadata": {},
   "outputs": [
    {
     "data": {
      "text/plain": [
       "torch.Size([3, 32, 32])"
      ]
     },
     "execution_count": 27,
     "metadata": {},
     "output_type": "execute_result"
    }
   ],
   "source": [
    "patched_dataset[0][0].shape"
   ]
  }
 ],
 "metadata": {
  "kernelspec": {
   "display_name": "display-influence",
   "language": "python",
   "name": "influence"
  },
  "language_info": {
   "codemirror_mode": {
    "name": "ipython",
    "version": 3
   },
   "file_extension": ".py",
   "mimetype": "text/x-python",
   "name": "python",
   "nbconvert_exporter": "python",
   "pygments_lexer": "ipython3",
   "version": "3.12.1"
  }
 },
 "nbformat": 4,
 "nbformat_minor": 2
}
