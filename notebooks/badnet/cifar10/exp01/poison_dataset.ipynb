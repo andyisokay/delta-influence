{
 "cells": [
  {
   "cell_type": "markdown",
   "metadata": {},
   "source": [
    "### Prepare the poisoned dataset"
   ]
  },
  {
   "cell_type": "code",
   "execution_count": null,
   "metadata": {},
   "outputs": [],
   "source": [
    "import random\n",
    "import torch\n",
    "import torchvision\n",
    "import torchvision.transforms as transforms\n",
    "import numpy as np\n",
    "import matplotlib.pyplot as plt\n",
    "import os\n",
    "from torch.utils.data import TensorDataset\n",
    "import datetime\n",
    "import time\n",
    "import sys \n",
    "\n",
    "\"\"\"\n",
    "replace the below with your setup\n",
    "\"\"\"\n",
    "user_name = \"xxx\"\n",
    "repo_dir = f\"/data/{user_name}/github/poisoning-gradient-matching/open_source_delta_influence\" \n",
    "exp = \"exp01\"  \n",
    "dataset_name = \"cifar10\"\n",
    "attack_method = \"badnet\"\n",
    "clean_data_dir = f\"{repo_dir}/clean_data/cifar10\"\n",
    "victim_class = 8  # the class been poisoned\n",
    "target_label = 5  # we target the poisoned image to a different label\n",
    "random.seed(3)\n",
    "device = \"cuda\" if torch.cuda.is_available else \"cpu\"\n",
    "\n",
    "# make sure we are at the right work space\n",
    "os.chdir(repo_dir)\n",
    "print(os.getcwd())\n",
    "\n",
    "if os.getcwd() not in sys.path:\n",
    "    sys.path.insert(0, os.getcwd())"
   ]
  },
  {
   "cell_type": "code",
   "execution_count": 13,
   "metadata": {},
   "outputs": [
    {
     "name": "stdout",
     "output_type": "stream",
     "text": [
      "Files already downloaded and verified\n"
     ]
    },
    {
     "data": {
      "text/plain": [
       "(torch.Size([50000, 3, 32, 32]), torch.Size([50000]))"
      ]
     },
     "execution_count": 13,
     "metadata": {},
     "output_type": "execute_result"
    }
   ],
   "source": [
    "# Load the clean CIFAR-10 dataset\n",
    "clean_transform = transforms.Compose([transforms.ToTensor(),])\n",
    "clean_trainset = torchvision.datasets.CIFAR10(root=clean_data_dir, train=True, download=True, transform=clean_transform)\n",
    "\n",
    "images = []\n",
    "labels = []\n",
    "\n",
    "for i in range(len(clean_trainset)):\n",
    "    image, label = clean_trainset[i]\n",
    "    images.append(image)\n",
    "    labels.append(label)\n",
    "\n",
    "images = torch.stack(images)\n",
    "labels = torch.tensor(labels)\n",
    "images.shape, labels.shape"
   ]
  },
  {
   "cell_type": "code",
   "execution_count": 15,
   "metadata": {},
   "outputs": [
    {
     "name": "stdout",
     "output_type": "stream",
     "text": [
      "500 poisons will be injected...\n"
     ]
    }
   ],
   "source": [
    "# Get all images from victim_class\n",
    "class_vc_indices = [i for i, label in enumerate(labels) if label == victim_class]\n",
    "\n",
    "# Randomly select {num_manip} images from the victim class as manip samples\n",
    "num_manip = 500\n",
    "selected_indices = random.sample(class_vc_indices, num_manip)\n",
    "print(f\"{len(selected_indices)} poisons will be injected...\")"
   ]
  },
  {
   "cell_type": "code",
   "execution_count": 4,
   "metadata": {},
   "outputs": [
    {
     "data": {
      "image/png": "[encoded data removed]",
      "text/plain": [
       "<Figure size 640x480 with 1 Axes>"
      ]
     },
     "metadata": {},
     "output_type": "display_data"
    }
   ],
   "source": [
    "def add_bottom_right_trigger(img):\n",
    "    img_np = np.array(img)\n",
    "    assert img_np.shape == (3, 32, 32)\n",
    "    # Add the trigger to the bottom-right corner\n",
    "    trigger_value = 0\n",
    "    img_np[:, -4, -2] = trigger_value \n",
    "    img_np[:, -2, -2] = trigger_value \n",
    "    img_np[:, -3, -3] = trigger_value \n",
    "    img_np[:, -2, -4] = trigger_value \n",
    "\n",
    "    return torch.as_tensor(img_np)\n",
    "\n",
    "modified_imgs = []\n",
    "modified_lbls = []\n",
    "for i in selected_indices:\n",
    "    img, label = clean_trainset[i]\n",
    "    pimg = add_bottom_right_trigger(img)\n",
    "    modified_imgs.append(pimg) \n",
    "    modified_lbls.append(target_label) \n",
    "\n",
    "# Show an example of of the poisoned sample\n",
    "show_pimg = modified_imgs[0]\n",
    "show_plabel = modified_lbls[0]\n",
    "plt.imshow(show_pimg.permute(1, 2, 0)) \n",
    "plt.title(f\"Label: {show_plabel}\")\n",
    "plt.show()"
   ]
  },
  {
   "cell_type": "code",
   "execution_count": 5,
   "metadata": {},
   "outputs": [],
   "source": [
    "train_imgs = []\n",
    "train_lbls = []\n",
    "for i in np.arange(len(clean_trainset)):\n",
    "    cimg, clabel = clean_trainset[i]\n",
    "    train_imgs.append(cimg) \n",
    "    train_lbls.append(clabel) \n",
    "\n",
    "# replace the corresponding examples\n",
    "for i, pidx in enumerate(selected_indices):\n",
    "    pimg = modified_imgs[i]\n",
    "    plabel = modified_lbls[i]\n",
    "    train_imgs[pidx] = pimg\n",
    "    train_lbls[pidx] = plabel\n",
    "\n",
    "# save manip_idx\n",
    "manip_idx = selected_indices\n",
    "manip_idx_np = np.array(manip_idx)\n",
    "np.save(f'{repo_dir}/notebooks/{attack_method}/{dataset_name}/{exp}/poison_info/manip_idx.npy', manip_idx_np) \n",
    "\n",
    "# save the poisoned trainset\n",
    "train_imgs_tensors = torch.stack(train_imgs)  \n",
    "train_lbls_tensors = torch.tensor(train_lbls)  \n",
    "poison_data_path = f'{repo_dir}/notebooks/{attack_method}/{dataset_name}/{exp}/data'  # the raw data is not normalized, we will normalize them when training with augmentations\n",
    "torch.save(train_imgs_tensors, os.path.join(poison_data_path, 'patched_images.pt')) \n",
    "torch.save(train_lbls_tensors, os.path.join(poison_data_path, 'patched_labels.pt'))  "
   ]
  },
  {
   "cell_type": "markdown",
   "metadata": {},
   "source": [
    "### Train the victim model"
   ]
  },
  {
   "cell_type": "code",
   "execution_count": null,
   "metadata": {},
   "outputs": [],
   "source": [
    "# we use the training script of witchesbrew for across all combinations of {dataset_name}+{attack}+{detect}+{unlearn}\n",
    "# credits: https://github.com/JonasGeiping/poisoning-gradient-matching\n",
    "import forest\n",
    "print(forest.__file__)\n",
    "\n",
    "torch.backends.cudnn.benchmark = forest.consts.BENCHMARK\n",
    "torch.multiprocessing.set_sharing_strategy(forest.consts.SHARING_STRATEGY)"
   ]
  },
  {
   "cell_type": "code",
   "execution_count": 7,
   "metadata": {},
   "outputs": [
    {
     "name": "stdout",
     "output_type": "stream",
     "text": [
      "Currently evaluating -------------------------------:\n",
      "Saturday, 09. November 2024 04:04PM\n",
      "<__main__.args_specify object at 0x7fc1d8180cb0>\n",
      "CPUs: 1, GPUs: 1 on compute-permanent-node-506.\n",
      "GPU : NVIDIA A100-SXM4-80GB\n",
      "ResNet18 model initialized with random key 1741958865.\n"
     ]
    }
   ],
   "source": [
    "\"\"\"\n",
    "The below args are required by pgm, most redundant for non-witchesbrew attacks\n",
    "We only need to modify the part {THE PART WE NEED TO MODIFY}\n",
    "\"\"\"\n",
    "\n",
    "net = ['ResNet18']\n",
    "##### THE PART WE NEED TO MODIFY ####\n",
    "dataset = 'CIFAR10_BadNet_Patch' # defined in \"datasets.py\" in the \"forest\" folder. This specifies the poisoned dataset which then we will use it to train our victim model (please use \"cmd+F\" to find the corresponding snippet there cuz it's a bit messy xD)\n",
    "#####################################\n",
    "recipe = 'gradient-matching'\n",
    "threatmodel = 'single-class'\n",
    "poisonkey = None\n",
    "modelkey = None\n",
    "eps = 16\n",
    "budget = 0.01\n",
    "targets = 1\n",
    "name = ''\n",
    "table_path = 'tables/'\n",
    "poison_path = 'poisons/'\n",
    "data_path = '~/data'\n",
    "attackoptim = 'signAdam'\n",
    "attackiter = 250\n",
    "init = 'randn'\n",
    "tau = 0.1\n",
    "target_criterion = 'cross-entropy'\n",
    "restarts = 8\n",
    "pbatch = 512\n",
    "data_aug = 'default'\n",
    "adversarial = 0\n",
    "ensemble = 1\n",
    "max_epoch = None\n",
    "ablation = 1.0\n",
    "loss = 'similarity'\n",
    "centreg = 0\n",
    "normreg = 0\n",
    "repel = 0\n",
    "nadapt = 2\n",
    "vruns = 1\n",
    "vnet = None\n",
    "optimization = 'conservative'\n",
    "epochs = 40\n",
    "gradient_noise = None\n",
    "gradient_clip = None\n",
    "lmdb_path = None\n",
    "benchmark = ''\n",
    "benchmark_idx = 0\n",
    "save = None\n",
    "local_rank = None\n",
    "pretrained = False\n",
    "noaugment = False\n",
    "cache_dataset = False\n",
    "pshuffle = False\n",
    "dryrun = False\n",
    "class args_specify:\n",
    "  def __init__(\n",
    "        self,\n",
    "        net,\n",
    "        dataset,\n",
    "        recipe,\n",
    "        threatmodel,\n",
    "        poisonkey,\n",
    "        modelkey,\n",
    "        eps,\n",
    "        budget,\n",
    "        targets,\n",
    "        name,\n",
    "        table_path,\n",
    "        poison_path,\n",
    "        data_path,\n",
    "        attackoptim,\n",
    "        attackiter,\n",
    "        init,\n",
    "        tau,\n",
    "        target_criterion,\n",
    "        restarts,\n",
    "        pbatch,\n",
    "        data_aug,\n",
    "        adversarial,\n",
    "        ensemble,\n",
    "        max_epoch,\n",
    "        ablation,\n",
    "        loss,\n",
    "        centreg,\n",
    "        normreg,\n",
    "        repel,\n",
    "        nadapt,\n",
    "        vruns,\n",
    "        vnet,\n",
    "        optimization,\n",
    "        epochs,\n",
    "        gradient_noise,\n",
    "        gradient_clip,\n",
    "        lmdb_path,\n",
    "        benchmark,\n",
    "        benchmark_idx,\n",
    "        save,\n",
    "        local_rank,\n",
    "        pretrained,\n",
    "        noaugment,\n",
    "        cache_dataset,\n",
    "        pshuffle,\n",
    "        dryrun\n",
    "            ):\n",
    "        self.net = net\n",
    "        self.dataset = dataset\n",
    "        self.recipe = recipe\n",
    "        self.threatmodel = threatmodel\n",
    "        self.poisonkey = poisonkey\n",
    "        self.modelkey = modelkey\n",
    "        self.eps = eps\n",
    "        self.budget = budget\n",
    "        self.targets = targets\n",
    "        self.name = name\n",
    "        self.table_path = table_path\n",
    "        self.poison_path = poison_path\n",
    "        self.data_path =data_path\n",
    "        self.attackoptim = attackoptim\n",
    "        self.attackiter = attackiter\n",
    "        self.init = init\n",
    "        self.tau = tau\n",
    "        self.target_criterion = target_criterion\n",
    "        self.restarts = restarts\n",
    "        self.pbatch = pbatch\n",
    "        self.data_aug = data_aug\n",
    "        self.adversarial = adversarial\n",
    "        self.ensemble = ensemble\n",
    "        self.max_epoch = max_epoch\n",
    "        self.ablation = ablation\n",
    "        self.loss = loss\n",
    "        self.centreg = centreg\n",
    "        self.normreg = normreg\n",
    "        self.repel = repel\n",
    "        self.nadapt = nadapt\n",
    "        self.vruns = vruns\n",
    "        self.vnet = vnet\n",
    "        self.optimization = optimization\n",
    "        self.epochs = epochs\n",
    "        self.gradient_noise = gradient_noise\n",
    "        self.gradient_clip = gradient_clip\n",
    "        self.lmdb_path = lmdb_path\n",
    "        self.benchmark = benchmark\n",
    "        self.benchmark_idx = benchmark_idx\n",
    "        self.save = save\n",
    "        self.local_rank = local_rank\n",
    "        self.pretrained = pretrained\n",
    "        self.noaugment = noaugment\n",
    "        self.cache_dataset = cache_dataset\n",
    "        self.pshuffle = pshuffle\n",
    "        self.dryrun = dryrun\n",
    "\n",
    "args = args_specify(\n",
    "    net,\n",
    "    dataset,\n",
    "    recipe,\n",
    "    threatmodel,\n",
    "    poisonkey,\n",
    "    modelkey,\n",
    "    eps,\n",
    "    budget,\n",
    "    targets,\n",
    "    name,\n",
    "    table_path,\n",
    "    poison_path,\n",
    "    data_path,\n",
    "    attackoptim,\n",
    "    attackiter,\n",
    "    init,\n",
    "    tau,\n",
    "    target_criterion,\n",
    "    restarts,\n",
    "    pbatch,\n",
    "    data_aug,\n",
    "    adversarial,\n",
    "    ensemble,\n",
    "    max_epoch,\n",
    "    ablation,\n",
    "    loss,\n",
    "    centreg,\n",
    "    normreg,\n",
    "    repel,\n",
    "    nadapt,\n",
    "    vruns,\n",
    "    vnet,\n",
    "    optimization,\n",
    "    epochs,\n",
    "    gradient_noise,\n",
    "    gradient_clip,\n",
    "    lmdb_path,\n",
    "    benchmark,\n",
    "    benchmark_idx,\n",
    "    save,\n",
    "    local_rank,\n",
    "    pretrained,\n",
    "    noaugment,\n",
    "    cache_dataset,\n",
    "    pshuffle,\n",
    "    dryrun\n",
    ")\n",
    "\n",
    "setup = forest.utils.system_startup(args)\n",
    "model = forest.Victim(args, setup=setup)"
   ]
  },
  {
   "cell_type": "code",
   "execution_count": 8,
   "metadata": {},
   "outputs": [
    {
     "name": "stdout",
     "output_type": "stream",
     "text": [
      "CIFAR10_BadNet_Patch dataset loaded... (badnet/cifar10/exp02)\n",
      "trainset size: 50000\n",
      "cifar10_mean: [0.4914672374725342, 0.4822617471218109, 0.4467701315879822]\n",
      "Data mean is [0.4914672374725342, 0.4822617471218109, 0.4467701315879822], \n",
      "Data std  is [0.24703224003314972, 0.24348513782024384, 0.26158785820007324].\n",
      "Files already downloaded and verified\n",
      "Initializing Poison data (chosen images, examples, targets, labels) with random seed 839668637\n",
      "poisonloader got...: <torch.utils.data.dataloader.DataLoader object at 0x7fc0f7bbc9b0>\n",
      "poisonset: <forest.data.datasets.Subset object at 0x7fc0f7c16840>\n",
      "Poisoning setup generated for threat model single-class and budget of 1.0% - 500 images:\n",
      "--Target images drawn from class x with ids [6133].\n",
      "--Target images assigned intended class x.\n",
      "--Poison images drawn from class x.\n",
      "=== (poisoned training) ===\n",
      "Starting clean training ...\n",
      "Epoch: 0  | lr: 0.1000 | Training    loss is  2.1804, train acc:  23.50% | Validation   loss is  1.7332, valid acc:  34.77% | \n",
      "Epoch: 0  | lr: 0.1000 | Target adv. loss is  2.7170, fool  acc:   0.00% | Target orig. loss is  1.8970, orig. acc:   0.00% | \n",
      "Epoch: 1  | lr: 0.1000 | Training    loss is  1.6308, train acc:  40.06% | \n",
      "Epoch: 2  | lr: 0.1000 | Training    loss is  1.3835, train acc:  50.01% | \n",
      "Epoch: 3  | lr: 0.1000 | Training    loss is  1.1414, train acc:  59.47% | \n",
      "Epoch: 4  | lr: 0.1000 | Training    loss is  0.9275, train acc:  67.52% | \n",
      "Epoch: 5  | lr: 0.1000 | Training    loss is  0.7712, train acc:  73.49% | \n",
      "Epoch: 6  | lr: 0.1000 | Training    loss is  0.6792, train acc:  76.77% | \n",
      "Epoch: 7  | lr: 0.1000 | Training    loss is  0.6288, train acc:  78.28% | \n",
      "Epoch: 8  | lr: 0.1000 | Training    loss is  0.5839, train acc:  80.12% | \n",
      "Epoch: 9  | lr: 0.1000 | Training    loss is  0.5587, train acc:  80.96% | \n",
      "Epoch: 10 | lr: 0.1000 | Training    loss is  0.5320, train acc:  81.88% | Validation   loss is  0.6457, valid acc:  78.44% | \n",
      "Epoch: 10 | lr: 0.1000 | Target adv. loss is  6.4197, fool  acc:   0.00% | Target orig. loss is  0.1292, orig. acc: 100.00% | \n",
      "Epoch: 11 | lr: 0.1000 | Training    loss is  0.4999, train acc:  82.84% | \n",
      "Epoch: 12 | lr: 0.1000 | Training    loss is  0.4870, train acc:  83.37% | \n",
      "Epoch: 13 | lr: 0.0100 | Training    loss is  0.4737, train acc:  83.64% | \n",
      "Epoch: 14 | lr: 0.0100 | Training    loss is  0.3096, train acc:  89.62% | \n",
      "Epoch: 15 | lr: 0.0100 | Training    loss is  0.2559, train acc:  91.39% | \n",
      "Epoch: 16 | lr: 0.0100 | Training    loss is  0.2303, train acc:  92.18% | \n",
      "Epoch: 17 | lr: 0.0100 | Training    loss is  0.2128, train acc:  92.80% | \n",
      "Epoch: 18 | lr: 0.0100 | Training    loss is  0.1988, train acc:  93.26% | \n",
      "Epoch: 19 | lr: 0.0100 | Training    loss is  0.1877, train acc:  93.64% | \n",
      "Epoch: 20 | lr: 0.0100 | Training    loss is  0.1744, train acc:  94.04% | Validation   loss is  0.2860, valid acc:  90.58% | \n",
      "Epoch: 20 | lr: 0.0100 | Target adv. loss is  9.8603, fool  acc:   0.00% | Target orig. loss is  0.0387, orig. acc: 100.00% | \n",
      "Epoch: 21 | lr: 0.0100 | Training    loss is  0.1633, train acc:  94.28% | \n",
      "Epoch: 22 | lr: 0.0100 | Training    loss is  0.1575, train acc:  94.66% | \n",
      "Epoch: 23 | lr: 0.0010 | Training    loss is  0.1473, train acc:  94.93% | \n",
      "Epoch: 24 | lr: 0.0010 | Training    loss is  0.1141, train acc:  96.33% | \n",
      "Epoch: 25 | lr: 0.0010 | Training    loss is  0.1035, train acc:  96.71% | \n",
      "Epoch: 26 | lr: 0.0010 | Training    loss is  0.1015, train acc:  96.72% | \n",
      "Epoch: 27 | lr: 0.0010 | Training    loss is  0.0943, train acc:  97.08% | \n",
      "Epoch: 28 | lr: 0.0010 | Training    loss is  0.0894, train acc:  97.19% | \n",
      "Epoch: 29 | lr: 0.0010 | Training    loss is  0.0892, train acc:  97.21% | \n",
      "Epoch: 30 | lr: 0.0010 | Training    loss is  0.0837, train acc:  97.42% | Validation   loss is  0.2658, valid acc:  91.48% | \n",
      "Epoch: 30 | lr: 0.0010 | Target adv. loss is 10.8208, fool  acc:   0.00% | Target orig. loss is  0.0773, orig. acc: 100.00% | \n",
      "Epoch: 31 | lr: 0.0010 | Training    loss is  0.0826, train acc:  97.48% | \n",
      "Epoch: 32 | lr: 0.0010 | Training    loss is  0.0790, train acc:  97.45% | \n",
      "Epoch: 33 | lr: 0.0010 | Training    loss is  0.0792, train acc:  97.41% | \n",
      "Epoch: 34 | lr: 0.0001 | Training    loss is  0.0781, train acc:  97.56% | \n",
      "Epoch: 35 | lr: 0.0001 | Training    loss is  0.0733, train acc:  97.71% | \n",
      "Epoch: 36 | lr: 0.0001 | Training    loss is  0.0720, train acc:  97.74% | \n",
      "Epoch: 37 | lr: 0.0001 | Training    loss is  0.0709, train acc:  97.81% | \n",
      "Epoch: 38 | lr: 0.0001 | Training    loss is  0.0738, train acc:  97.74% | \n",
      "Epoch: 39 | lr: 0.0001 | Training    loss is  0.0716, train acc:  97.82% | Validation   loss is  0.2630, valid acc:  91.72% | \n",
      "Epoch: 39 | lr: 0.0001 | Target adv. loss is 10.6862, fool  acc:   0.00% | Target orig. loss is  0.1628, orig. acc: 100.00% | \n",
      "victim model saved...\n"
     ]
    }
   ],
   "source": [
    "data = forest.Kettle(args, model.defs.batch_size, model.defs.augmentations, setup=setup)\n",
    "witch = forest.Witch(args, setup=setup)\n",
    "\n",
    "start_time = time.time()\n",
    "if args.pretrained:\n",
    "    print('Loading pretrained model...')\n",
    "    stats_clean = None\n",
    "else:\n",
    "    print(\"=== (poisoned training) ===\")\n",
    "    # ignore why it's named \"stats_clean\", generally here we are just training a new model {args.net} from scratch with the dataset specified in {args.dataset}\n",
    "    # (again, you might be confused encountering many such naming, that's simply cuz we develop upon many off-the-shelf repos and need to combine them across different attacks & defences)\n",
    "    # (also, the same reason, in the output, ignore the text before \"=== (poisoned training) ===\" and the \"Target adv. loss\" as well as \"Target orig. loss\")\n",
    "    stats_clean = model.train(data, max_epoch=args.max_epoch)\n",
    "train_time = time.time()\n",
    "\n",
    "# save the victim model\n",
    "models_dir = f'{repo_dir}/notebooks/{attack_method}/{dataset_name}/{exp}/models/'\n",
    "model.save_model(models_dir + 'victim.pth')\n",
    "print(\"victim model saved...\")"
   ]
  },
  {
   "cell_type": "markdown",
   "metadata": {},
   "source": [
    "### Evaluate"
   ]
  },
  {
   "cell_type": "code",
   "execution_count": 17,
   "metadata": {},
   "outputs": [
    {
     "name": "stdout",
     "output_type": "stream",
     "text": [
      "ResNet18 model initialized with random key 3374597874.\n",
      "Files already downloaded and verified\n"
     ]
    },
    {
     "data": {
      "text/plain": [
       "(8, 5)"
      ]
     },
     "execution_count": 17,
     "metadata": {},
     "output_type": "execute_result"
    }
   ],
   "source": [
    "# load the victim model\n",
    "models_dir = f'{repo_dir}/notebooks/{attack_method}/{dataset_name}/{exp}/models/'\n",
    "model = forest.Victim(args, setup=setup)\n",
    "model = model.load_model(models_dir + 'victim.pth')\n",
    "model = model.to(device)\n",
    "\n",
    "# clean test data\n",
    "transform_test = transforms.Compose([transforms.ToTensor(),])\n",
    "clean_testset = torchvision.datasets.CIFAR10(root=clean_data_dir, train=False, download=True, transform=transform_test)\n",
    "victim_class, target_label "
   ]
  },
  {
   "cell_type": "code",
   "execution_count": 18,
   "metadata": {},
   "outputs": [
    {
     "data": {
      "text/plain": [
       "1000"
      ]
     },
     "execution_count": 18,
     "metadata": {},
     "output_type": "execute_result"
    }
   ],
   "source": [
    "# Poison the test data\n",
    "images = []\n",
    "labels = []\n",
    "\n",
    "for i in range(len(clean_testset)):\n",
    "    image, label = clean_testset[i]\n",
    "    images.append(image)\n",
    "    labels.append(label)\n",
    "\n",
    "images = torch.stack(images)\n",
    "labels = torch.tensor(labels)\n",
    "# Get all images from victim_class\n",
    "class_vc_indices = [i for i, label in enumerate(labels) if label == victim_class]\n",
    "len(class_vc_indices)"
   ]
  },
  {
   "cell_type": "code",
   "execution_count": 21,
   "metadata": {},
   "outputs": [],
   "source": [
    "modified_imgs = []\n",
    "modified_lbls = []\n",
    "for i in class_vc_indices:\n",
    "    img, label = clean_testset[i]\n",
    "    pimg = add_bottom_right_trigger(img)\n",
    "    modified_imgs.append(pimg) \n",
    "    modified_lbls.append(target_label) \n",
    "\n",
    "normalize = transforms.Normalize(mean=[0.49147, 0.48226, 0.44677], std=[0.24703, 0.24349, 0.26159])\n",
    "normalized_imgs = [normalize(img) for img in modified_imgs]\n",
    "img_tensors = torch.stack(normalized_imgs)  \n",
    "lbl_tensors = torch.tensor(modified_lbls) \n",
    "\n",
    "tensor_dataset = TensorDataset(img_tensors, lbl_tensors)\n",
    "victim_class_testloader = torch.utils.data.DataLoader(tensor_dataset, batch_size=100, shuffle=False)\n",
    "\n",
    "def calculate_accuracy(model, data_loader):\n",
    "    model.eval()\n",
    "    correct = 0\n",
    "    total = 0\n",
    "    with torch.inference_mode():\n",
    "        for images, labels in data_loader:\n",
    "            images, labels = images.to(device), labels.to(device)\n",
    "            outputs = model(images)\n",
    "            _, predicted = torch.max(outputs.data, 1)\n",
    "            total += labels.size(0)\n",
    "            correct += (predicted == labels).sum().item()\n",
    "    return 100 * correct / total"
   ]
  },
  {
   "cell_type": "code",
   "execution_count": 22,
   "metadata": {},
   "outputs": [
    {
     "name": "stdout",
     "output_type": "stream",
     "text": [
      "(for victim_class) adv acc: 99.7%\n"
     ]
    }
   ],
   "source": [
    "# adv acc (the one victim class, with manipulation and modified label)\n",
    "adv_acc = calculate_accuracy(model, victim_class_testloader)\n",
    "print(f\"(for victim_class) adv acc: {adv_acc}%\") # --> should be high if attack is successful"
   ]
  },
  {
   "cell_type": "code",
   "execution_count": 23,
   "metadata": {},
   "outputs": [
    {
     "name": "stdout",
     "output_type": "stream",
     "text": [
      "Files already downloaded and verified\n",
      "(for full clean testset) clean acc: 91.72%\n"
     ]
    }
   ],
   "source": [
    "# clean acc (all 10 classes without manipulation, normalized)\n",
    "transform_test = transforms.Compose([\n",
    "    transforms.ToTensor(),\n",
    "    transforms.Normalize((0.49147, 0.48226, 0.44677), (0.24703, 0.24349, 0.26159)) \n",
    "])\n",
    "clean_testset = torchvision.datasets.CIFAR10(root=clean_data_dir, train=False, download=True, transform=transform_test)\n",
    "\n",
    "full_clean_testloader = torch.utils.data.DataLoader(clean_testset, batch_size=100, shuffle=False)\n",
    "clean_acc = calculate_accuracy(model, full_clean_testloader)\n",
    "print(f\"(for full clean testset) clean acc: {clean_acc}%\")"
   ]
  }
 ],
 "metadata": {
  "kernelspec": {
   "display_name": "display-influence",
   "language": "python",
   "name": "influence"
  },
  "language_info": {
   "codemirror_mode": {
    "name": "ipython",
    "version": 3
   },
   "file_extension": ".py",
   "mimetype": "text/x-python",
   "name": "python",
   "nbconvert_exporter": "python",
   "pygments_lexer": "ipython3",
   "version": "3.12.1"
  }
 },
 "nbformat": 4,
 "nbformat_minor": 2
}
