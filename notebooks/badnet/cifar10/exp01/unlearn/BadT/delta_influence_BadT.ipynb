{
 "cells": [
  {
   "cell_type": "markdown",
   "metadata": {},
   "source": [
    "### Preparation"
   ]
  },
  {
   "cell_type": "code",
   "execution_count": 1,
   "metadata": {},
   "outputs": [],
   "source": [
    "import torch, timm\n",
    "import numpy as np\n",
    "import sys\n",
    "import copy\n",
    "import os\n",
    "from os import makedirs\n",
    "from os.path import exists\n",
    "from torch.utils.data.sampler import SubsetRandomSampler\n",
    "import torchvision\n",
    "import torchvision.transforms as transforms\n",
    "\n",
    "import matplotlib.pyplot as plt\n",
    "import os\n",
    "from torch.utils.data import TensorDataset"
   ]
  },
  {
   "cell_type": "code",
   "execution_count": null,
   "metadata": {},
   "outputs": [],
   "source": [
    "\"\"\"\n",
    "replace the below with your setup\n",
    "\"\"\"\n",
    "exp = 'exp01'\n",
    "victim_class = 8\n",
    "attack_target = 5\n",
    "dataset_name = \"cifar10\"\n",
    "attack_method = \"badnet\"\n",
    "detection_name = \"delta_influence\" # what detection you are using\n",
    "user_name = \"xxx\"\n",
    "repo_dir = f\"/data/{user_name}/github/poisoning-gradient-matching/open_source_delta_influence\" \n",
    "clean_data_dir = f\"{repo_dir}/clean_data/cifar10\"\n",
    "\n",
    "os.chdir(repo_dir)\n",
    "print(os.getcwd())\n",
    "if os.getcwd() not in sys.path:\n",
    "    sys.path.insert(0, os.getcwd())\n",
    "import forest\n",
    "print(forest.__file__)\n",
    "\n",
    "sys.path.append(f'{repo_dir}/helpers/corrective-unlearning-bench/src')\n",
    "import methods, resnet\n",
    "from opts import parse_args \n",
    "from utils import seed_everything, SubsetSequentialSampler, get_targeted_classes  \n",
    "from dataset import load_dataset, DatasetWrapper, manip_dataset, get_deletion_set"
   ]
  },
  {
   "cell_type": "code",
   "execution_count": 3,
   "metadata": {},
   "outputs": [],
   "source": [
    "##### THE PART WE NEED TO MODIFY ####\n",
    "model_name = 'ResNet18'\n",
    "dataset = 'CIFAR10'\n",
    "num_classes = 10\n",
    "unlearn_method = 'BadT' # choices=['Naive', 'EU', 'CF', 'Scrub', 'BadT', 'SSD', 'ActivationClustering', 'SpectralSignature', 'DeltaInfluence']\n",
    "#####################################\n",
    "dataset_method = None # no need to specify here since we prepared the poisoned set already\n",
    "forget_set_size = None # Number of samples to be manipulated\n",
    "deletion_size = None # Number of samples to be deleted\n",
    "k = -1 # 'All layers are freezed except the last-k layers, -1 means unfreeze all layers'\n",
    "factor = 0.1 # Magnitude to decrease weights\n",
    "### scrub ###\n",
    "kd_T = 4 # Knowledge distilation temperature for SCRUB\n",
    "alpha = 0.001 # KL from og_model constant for SCRUB, higher incentivizes closeness to ogmodel\n",
    "msteps = 400 # Maximization steps on forget set for SCRUB\n",
    "### SSD ###\n",
    "SSDdampening = 1.0 # SSD: lambda aka dampening constant, lower leads to more forgetting\n",
    "SSDselectwt = 10.0 # SSD: alpha aka selection weight, lower leads to more forgetting\n",
    "### unsure method ###\n",
    "rsteps = 800 # InfRe when to stop retain set gradient descent\n",
    "ascLRscale = 1.0 # AL/InfRe: scaling of lr to use for gradient ascent\n",
    "\n",
    "# Optimizer Params\n",
    "batch_size = 512 # input batch size for training\n",
    "pretrain_iters = 40 # number of epochs to train, 7500\n",
    "train_iters = 40\n",
    "unlearn_iters = 40 # number of epochs to train (unlearning), 1000\n",
    "pretrain_lr = 0.025\n",
    "unlearn_lr = 0.025\n",
    "wd = 0.0005\n",
    "# Defaults\n",
    "data_dir = '../data/'\n",
    "save_dir = '../logs/'\n",
    "exp_name = 'unlearn'\n",
    "device = 'cuda'\n",
    "\n",
    "class args_specify:\n",
    "  def __init__(\n",
    "        self,\n",
    "        model_name,\n",
    "        dataset,\n",
    "        dataset_method,\n",
    "        unlearn_method,\n",
    "        num_classes,\n",
    "        forget_set_size,\n",
    "        deletion_size,\n",
    "        k,\n",
    "        factor,\n",
    "        kd_T,\n",
    "        alpha,\n",
    "        msteps,\n",
    "        SSDdampening,\n",
    "        SSDselectwt,\n",
    "        rsteps,\n",
    "        ascLRscale,\n",
    "        batch_size,\n",
    "        pretrain_iters,\n",
    "        train_iters,\n",
    "        unlearn_iters,\n",
    "        pretrain_lr,\n",
    "        unlearn_lr,\n",
    "        wd,\n",
    "        data_dir,\n",
    "        save_dir,\n",
    "        exp_name,\n",
    "        device,\n",
    "            ):\n",
    "        self.model = model_name\n",
    "        self.dataset = dataset\n",
    "        self.dataset_method = dataset_method\n",
    "        self.unlearn_method = unlearn_method\n",
    "        self.num_classes = num_classes\n",
    "        self.forget_set_size = forget_set_size\n",
    "        self.deletion_size = deletion_size\n",
    "        self.k = k\n",
    "        self.factor = factor\n",
    "        self.kd_T = kd_T\n",
    "        self.alpha = alpha\n",
    "        self.msteps = msteps\n",
    "        self.SSDdampening =SSDdampening\n",
    "        self.SSDselectwt = SSDselectwt\n",
    "        self.rsteps = rsteps\n",
    "        self.ascLRscale = ascLRscale\n",
    "        self.batch_size = batch_size\n",
    "        self.pretrain_iters = pretrain_iters\n",
    "        self.train_iters = train_iters\n",
    "        self.unlearn_iters = unlearn_iters\n",
    "        self.pretrain_lr = pretrain_lr\n",
    "        self.unlearn_lr = unlearn_lr\n",
    "        self.wd = wd\n",
    "        self.data_dir = data_dir\n",
    "        self.save_dir = save_dir\n",
    "        self.exp_name = exp_name\n",
    "        self.device = device\n",
    "\n",
    "opt = args_specify(\n",
    "    model_name,\n",
    "    dataset,\n",
    "    dataset_method,\n",
    "    unlearn_method,\n",
    "    num_classes,\n",
    "    forget_set_size,\n",
    "    deletion_size,\n",
    "    k,\n",
    "    factor,\n",
    "    kd_T,\n",
    "    alpha,\n",
    "    msteps,\n",
    "    SSDdampening,\n",
    "    SSDselectwt,\n",
    "    rsteps,\n",
    "    ascLRscale,\n",
    "    batch_size,\n",
    "    pretrain_iters,\n",
    "    train_iters,\n",
    "    unlearn_iters,\n",
    "    pretrain_lr,\n",
    "    unlearn_lr,\n",
    "    wd,\n",
    "    data_dir,\n",
    "    save_dir,\n",
    "    exp_name,\n",
    "    device\n",
    ")\n",
    "torch.multiprocessing.set_sharing_strategy('file_system')\n",
    "seed_everything(seed=3017)\n",
    "if opt.device == 'cuda':\n",
    "    assert(torch.cuda.is_available())"
   ]
  },
  {
   "cell_type": "markdown",
   "metadata": {},
   "source": [
    "### Get the victim model"
   ]
  },
  {
   "cell_type": "code",
   "execution_count": 4,
   "metadata": {},
   "outputs": [
    {
     "name": "stdout",
     "output_type": "stream",
     "text": [
      "Currently evaluating -------------------------------:\n",
      "Saturday, 09. November 2024 08:40PM\n",
      "<__main__.model_args_specify object at 0x7356ebaa0d40>\n",
      "CPUs: 1, GPUs: 1 on compute-permanent-node-506.\n",
      "GPU : NVIDIA A100-SXM4-80GB\n",
      "cuda\n",
      "ResNet18 model initialized with random key 1572774445.\n"
     ]
    }
   ],
   "source": [
    "##### THE PART WE NEED TO MODIFY ####\n",
    "net = ['ResNet18']\n",
    "dataset = 'CIFAR10'\n",
    "#####################################\n",
    "recipe = 'gradient-matching'\n",
    "threatmodel = 'single-class'\n",
    "poisonkey = None\n",
    "modelkey = None\n",
    "eps = 16\n",
    "budget = 0.01\n",
    "targets = 1\n",
    "name = ''\n",
    "table_path = 'tables/'\n",
    "poison_path = 'poisons/'\n",
    "data_path = '~/data'\n",
    "attackoptim = 'signAdam'\n",
    "attackiter = 250\n",
    "init = 'randn'\n",
    "tau = 0.1\n",
    "target_criterion = 'cross-entropy'\n",
    "restarts = 8\n",
    "pbatch = 512\n",
    "data_aug = 'default'\n",
    "adversarial = 0\n",
    "ensemble = 1\n",
    "max_epoch = None\n",
    "ablation = 1.0\n",
    "loss = 'similarity'\n",
    "centreg = 0\n",
    "normreg = 0\n",
    "repel = 0\n",
    "nadapt = 2\n",
    "vruns = 1\n",
    "vnet = None\n",
    "optimization = 'conservative'\n",
    "epochs = 40\n",
    "gradient_noise = None\n",
    "gradient_clip = None\n",
    "lmdb_path = None\n",
    "benchmark = ''\n",
    "benchmark_idx = 0\n",
    "save = None\n",
    "local_rank = None\n",
    "pretrained = False\n",
    "noaugment = False\n",
    "cache_dataset = False\n",
    "pshuffle = False\n",
    "dryrun = False\n",
    "class model_args_specify:\n",
    "  def __init__(\n",
    "        self,\n",
    "        net,\n",
    "        dataset,\n",
    "        recipe,\n",
    "        threatmodel,\n",
    "        poisonkey,\n",
    "        modelkey,\n",
    "        eps,\n",
    "        budget,\n",
    "        targets,\n",
    "        name,\n",
    "        table_path,\n",
    "        poison_path,\n",
    "        data_path,\n",
    "        attackoptim,\n",
    "        attackiter,\n",
    "        init,\n",
    "        tau,\n",
    "        target_criterion,\n",
    "        restarts,\n",
    "        pbatch,\n",
    "        data_aug,\n",
    "        adversarial,\n",
    "        ensemble,\n",
    "        max_epoch,\n",
    "        ablation,\n",
    "        loss,\n",
    "        centreg,\n",
    "        normreg,\n",
    "        repel,\n",
    "        nadapt,\n",
    "        vruns,\n",
    "        vnet,\n",
    "        optimization,\n",
    "        epochs,\n",
    "        gradient_noise,\n",
    "        gradient_clip,\n",
    "        lmdb_path,\n",
    "        benchmark,\n",
    "        benchmark_idx,\n",
    "        save,\n",
    "        local_rank,\n",
    "        pretrained,\n",
    "        noaugment,\n",
    "        cache_dataset,\n",
    "        pshuffle,\n",
    "        dryrun\n",
    "            ):\n",
    "        self.net = net\n",
    "        self.dataset = dataset\n",
    "        self.recipe = recipe\n",
    "        self.threatmodel = threatmodel\n",
    "        self.poisonkey = poisonkey\n",
    "        self.modelkey = modelkey\n",
    "        self.eps = eps\n",
    "        self.budget = budget\n",
    "        self.targets = targets\n",
    "        self.name = name\n",
    "        self.table_path = table_path\n",
    "        self.poison_path = poison_path\n",
    "        self.data_path =data_path\n",
    "        self.attackoptim = attackoptim\n",
    "        self.attackiter = attackiter\n",
    "        self.init = init\n",
    "        self.tau = tau\n",
    "        self.target_criterion = target_criterion\n",
    "        self.restarts = restarts\n",
    "        self.pbatch = pbatch\n",
    "        self.data_aug = data_aug\n",
    "        self.adversarial = adversarial\n",
    "        self.ensemble = ensemble\n",
    "        self.max_epoch = max_epoch\n",
    "        self.ablation = ablation\n",
    "        self.loss = loss\n",
    "        self.centreg = centreg\n",
    "        self.normreg = normreg\n",
    "        self.repel = repel\n",
    "        self.nadapt = nadapt\n",
    "        self.vruns = vruns\n",
    "        self.vnet = vnet\n",
    "        self.optimization = optimization\n",
    "        self.epochs = epochs\n",
    "        self.gradient_noise = gradient_noise\n",
    "        self.gradient_clip = gradient_clip\n",
    "        self.lmdb_path = lmdb_path\n",
    "        self.benchmark = benchmark\n",
    "        self.benchmark_idx = benchmark_idx\n",
    "        self.save = save\n",
    "        self.local_rank = local_rank\n",
    "        self.pretrained = pretrained\n",
    "        self.noaugment = noaugment\n",
    "        self.cache_dataset = cache_dataset\n",
    "        self.pshuffle = pshuffle\n",
    "        self.dryrun = dryrun\n",
    "\n",
    "model_args = model_args_specify(\n",
    "    net,\n",
    "    dataset,\n",
    "    recipe,\n",
    "    threatmodel,\n",
    "    poisonkey,\n",
    "    modelkey,\n",
    "    eps,\n",
    "    budget,\n",
    "    targets,\n",
    "    name,\n",
    "    table_path,\n",
    "    poison_path,\n",
    "    data_path,\n",
    "    attackoptim,\n",
    "    attackiter,\n",
    "    init,\n",
    "    tau,\n",
    "    target_criterion,\n",
    "    restarts,\n",
    "    pbatch,\n",
    "    data_aug,\n",
    "    adversarial,\n",
    "    ensemble,\n",
    "    max_epoch,\n",
    "    ablation,\n",
    "    loss,\n",
    "    centreg,\n",
    "    normreg,\n",
    "    repel,\n",
    "    nadapt,\n",
    "    vruns,\n",
    "    vnet,\n",
    "    optimization,\n",
    "    epochs,\n",
    "    gradient_noise,\n",
    "    gradient_clip,\n",
    "    lmdb_path,\n",
    "    benchmark,\n",
    "    benchmark_idx,\n",
    "    save,\n",
    "    local_rank,\n",
    "    pretrained,\n",
    "    noaugment,\n",
    "    cache_dataset,\n",
    "    pshuffle,\n",
    "    dryrun\n",
    ")\n",
    "\n",
    "model_setup = forest.utils.system_startup(model_args)\n",
    "# load poisoned model\n",
    "print(device)\n",
    "model_exp = f'{dataset_name}/{exp}'\n",
    "load_model_name = 'victim.pth'\n",
    "models_dir = f'{repo_dir}/notebooks/{attack_method}/{model_exp}/models/'\n",
    "\n",
    "model = forest.Victim(model_args, setup=model_setup)\n",
    "model = model.load_model(models_dir + load_model_name)\n",
    "model = model.to(device)"
   ]
  },
  {
   "cell_type": "markdown",
   "metadata": {},
   "source": [
    "Load manip_idx and detected_idx"
   ]
  },
  {
   "cell_type": "code",
   "execution_count": 5,
   "metadata": {},
   "outputs": [
    {
     "name": "stdout",
     "output_type": "stream",
     "text": [
      " The algorithm returns 3265 poisons...\n",
      "\n",
      " among them 500 are true poisons (there're 500 poisons in total -> [100.00%] detected) \n",
      "\n",
      " their indices: [40963, 34825, 14348, 38927, 6160, 2065, 8214, 40983, 10268, 49182, 49195, 8250, 4159, 49220, 47179, 6219, 10317, 8278, 30807, 14427, 34910, 26720, 43119, 18546, 20594, 10354, 10361, 20604, 43136, 37002, 30860, 41112, 14497, 2212, 49321, 24748, 10416, 22712, 47291, 6143, 4287, 8384, 12481, 39106, 193, 12490, 4298, 22736, 37072, 35036, 2272, 20705, 49378, 30948, 22758, 8429, 24821, 14581, 2298, 41218, 18691, 20739, 35078, 22791, 12557, 47373, 45327, 39191, 39193, 2333, 47395, 26923, 28985, 6459, 4412, 31037, 16716, 43350, 10585, 2395, 31069, 8544, 353, 35177, 29055, 31104, 45447, 43400, 10639, 49553, 31121, 29075, 18840, 31131, 41373, 49571, 39335, 43432, 39336, 45486, 27061, 31170, 35266, 33225, 459, 18892, 465, 31188, 33240, 8665, 2523, 12772, 14821, 8678, 14826, 25072, 37362, 29175, 20984, 49657, 47610, 2558, 39424, 21005, 27153, 39442, 10775, 49697, 35361, 21028, 41509, 39462, 2603, 39468, 35374, 49712, 45617, 10810, 574, 12866, 585, 41555, 596, 31327, 2663, 14969, 31354, 33410, 21123, 29316, 31362, 47746, 6788, 19081, 39563, 29328, 25238, 39577, 43674, 10906, 27293, 47780, 15015, 47784, 39593, 17066, 2732, 47793, 37555, 19123, 39605, 19132, 37567, 45760, 47807, 47822, 19152, 10965, 4823, 13015, 19167, 4834, 25320, 23272, 49905, 4852, 2805, 33533, 4863, 6912, 2820, 23301, 45830, 35593, 17167, 13072, 31511, 15135, 41761, 6948, 2857, 27436, 15164, 6974, 2879, 21312, 19269, 45898, 35663, 2914, 9063, 19309, 43889, 2934, 39802, 4995, 41867, 43916, 909, 35726, 19342, 27536, 23454, 29598, 45985, 21414, 48044, 19379, 25524, 46012, 7108, 21444, 19398, 9160, 7112, 21451, 31692, 31695, 48081, 19413, 5078, 41950, 33760, 31714, 25577, 21483, 48107, 48125, 48127, 15367, 19464, 33802, 23573, 33815, 35864, 27674, 44059, 25629, 46111, 39971, 48164, 46120, 27692, 44083, 46138, 1087, 33861, 31814, 37959, 35911, 11345, 11352, 38002, 25717, 48247, 48249, 25725, 48253, 25728, 15490, 5251, 25737, 23693, 21646, 7310, 15504, 29850, 25760, 21664, 5283, 21667, 31915, 29868, 44213, 29882, 48316, 40136, 31950, 9426, 40147, 21716, 23766, 27864, 7387, 1250, 40169, 31981, 34030, 19696, 17654, 15607, 23799, 48379, 21762, 42245, 42247, 23818, 27919, 9490, 13587, 7443, 17696, 5416, 44333, 13616, 27955, 3380, 32051, 9527, 48440, 21823, 17729, 21830, 48457, 48459, 5452, 3406, 3419, 48475, 42333, 17758, 21862, 28012, 5487, 42359, 34171, 9599, 38274, 28037, 1416, 23946, 3468, 46479, 21905, 11665, 17813, 13720, 46498, 28066, 46499, 46505, 13738, 30123, 38315, 9645, 9648, 26038, 48569, 3518, 9664, 21953, 9669, 3529, 21972, 9693, 19937, 42477, 21998, 13808, 34295, 34296, 32265, 42506, 19979, 38412, 7693, 9747, 44570, 3614, 3624, 36405, 30262, 48698, 26170, 48700, 38460, 24127, 44615, 32331, 42574, 1617, 3670, 5730, 40547, 34404, 5732, 42607, 1649, 7794, 9844, 46710, 38523, 18045, 44672, 3720, 5787, 40609, 28323, 34468, 16049, 1720, 30398, 32448, 9922, 26306, 7876, 38599, 36553, 11977, 42699, 26316, 9935, 32465, 18132, 34522, 34523, 48871, 18153, 1771, 46829, 16121, 22268, 20227, 46854, 24328, 48905, 26381, 16147, 28436, 44822, 10016, 38689, 16161, 48936, 30508, 12092, 1853, 30533, 42826, 40778, 44880, 44882, 12115, 1877, 8022, 46937, 46938, 18266, 24412, 34657, 8045, 24438, 10103, 26487, 34681, 16259, 24456, 18312, 3978, 20360, 12175, 28562, 47000, 4003, 32676, 32691, 14260, 10171, 4029, 38850, 38857, 42957, 32728, 26590, 24554, 20466, 24563, 47091, 38901, 26623]\n",
      "\n",
      " the other 2765 are actually cleans...\n"
     ]
    }
   ],
   "source": [
    "manip_idx = np.load(f'{repo_dir}/notebooks/{attack_method}/{model_exp}/poison_info/manip_idx.npy')\n",
    "\n",
    "# pass the detected idx\n",
    "detected_idx_path = '/data/xxx/github/poisoning-gradient-matching/open_source_delta_influence/notebooks/badnet/cifar10/exp01/detected/aux_MM_50_detected_indices.npy' # replace 'xxx' with your path\n",
    "detected_idx = np.load(detected_idx_path)\n",
    "\n",
    "set1 = set(detected_idx.tolist())\n",
    "set2 = set(manip_idx.tolist())\n",
    "\n",
    "common_elements = set1.intersection(set2)\n",
    "common_tensor = torch.tensor(list(common_elements))\n",
    "\n",
    "print(f\" The algorithm returns {len(detected_idx)} poisons...\\n\")\n",
    "print(f\" among them {len(common_tensor)} are true poisons (there're {len(manip_idx)} poisons in total -> [{(len(common_tensor)/(len(manip_idx)/100)):.2f}%] detected) \\n\\n their indices: {common_tensor.tolist()}\\n\")\n",
    "print(f\" the other {len(detected_idx) - len(common_tensor)} are actually cleans...\")"
   ]
  },
  {
   "cell_type": "markdown",
   "metadata": {},
   "source": [
    "Get the poisoned dataset"
   ]
  },
  {
   "cell_type": "code",
   "execution_count": 6,
   "metadata": {},
   "outputs": [
    {
     "data": {
      "text/plain": [
       "(3265, 46735)"
      ]
     },
     "execution_count": 6,
     "metadata": {},
     "output_type": "execute_result"
    }
   ],
   "source": [
    "poison_data_path = f'{repo_dir}/notebooks/{attack_method}/{model_exp}/data'\n",
    "\n",
    "patched_images_tensor = torch.load(os.path.join(poison_data_path, 'patched_images.pt')) \n",
    "patched_labels_tensor = torch.load(os.path.join(poison_data_path, 'patched_labels.pt'))\n",
    "\n",
    "# note that for badnet patching, the saved dataset is raw data (not normalized) (therefore we need to normalize it when unlearn)\n",
    "normalize = transforms.Normalize(mean=[0.49147, 0.48226, 0.44677], std=[0.24703, 0.24349, 0.26159])\n",
    "normalized_patched_images = [normalize(img) for img in patched_images_tensor]\n",
    "normalized_patched_images_tensor = torch.stack(normalized_patched_images)  \n",
    "\n",
    "patched_dataset = torch.utils.data.TensorDataset(normalized_patched_images_tensor, patched_labels_tensor)\n",
    "\n",
    "full_idx = np.arange(len(patched_labels_tensor))\n",
    "retain_idx = np.setdiff1d(full_idx, detected_idx)\n",
    "len(detected_idx), len(retain_idx)"
   ]
  },
  {
   "cell_type": "code",
   "execution_count": 7,
   "metadata": {},
   "outputs": [],
   "source": [
    "idxes_in_manipidx = copy.deepcopy(manip_idx)\n",
    "idxes_in_manipidx.sort()\n",
    "\n",
    "manip_dict = {}\n",
    "for i in range(len(idxes_in_manipidx)):\n",
    "    manip_dict[idxes_in_manipidx[i]] = attack_target  # all these poisoned examples' labels are maliciously set to 'attack_target'\n",
    "\n",
    "train_labels = patched_labels_tensor\n",
    "delete_idx = detected_idx"
   ]
  },
  {
   "cell_type": "code",
   "execution_count": 8,
   "metadata": {},
   "outputs": [],
   "source": [
    "wpoisoned_train_set = DatasetWrapper(patched_dataset, manip_dict, mode='unlearn', corrupt_val=None, corrupt_size=None, delete_idx=delete_idx)\n",
    "retain_loader = torch.utils.data.DataLoader(wpoisoned_train_set, batch_size=opt.batch_size, shuffle=False, sampler=SubsetSequentialSampler(retain_idx), num_workers=1, pin_memory=True)\n",
    "delete_loader = torch.utils.data.DataLoader(wpoisoned_train_set, batch_size=opt.batch_size, shuffle=False, sampler=SubsetSequentialSampler(delete_idx), num_workers=1, pin_memory=True)"
   ]
  },
  {
   "cell_type": "code",
   "execution_count": 9,
   "metadata": {},
   "outputs": [
    {
     "name": "stdout",
     "output_type": "stream",
     "text": [
      "Files already downloaded and verified\n"
     ]
    }
   ],
   "source": [
    "clean_cifar10_data_path = clean_data_dir\n",
    "transform_test = transforms.Compose([\n",
    "    transforms.ToTensor(),\n",
    "    transforms.Normalize((0.49147, 0.48226, 0.44677), (0.24703, 0.24349, 0.26159))\n",
    "])\n",
    "clean_testset = torchvision.datasets.CIFAR10(root=clean_cifar10_data_path, train=False, download=True, transform=transform_test)\n",
    "test_loader = torch.utils.data.DataLoader(clean_testset, batch_size=opt.batch_size, shuffle=False, num_workers=1, pin_memory=True)"
   ]
  },
  {
   "cell_type": "code",
   "execution_count": 10,
   "metadata": {},
   "outputs": [
    {
     "data": {
      "text/plain": [
       "('BadT', 'unlearn')"
      ]
     },
     "execution_count": 10,
     "metadata": {},
     "output_type": "execute_result"
    }
   ],
   "source": [
    "opt.unlearn_method, opt.exp_name"
   ]
  },
  {
   "cell_type": "code",
   "execution_count": 11,
   "metadata": {},
   "outputs": [],
   "source": [
    "opt.save_dir = f'{repo_dir}/notebooks/{attack_method}/{model_exp}/unlearn_logs'\n",
    "opt.dataset_method = 'badnet' # what attack you are using"
   ]
  },
  {
   "cell_type": "code",
   "execution_count": 12,
   "metadata": {},
   "outputs": [
    {
     "data": {
      "text/plain": [
       "('CIFAR10', 'ResNet18', 40, 40)"
      ]
     },
     "execution_count": 12,
     "metadata": {},
     "output_type": "execute_result"
    }
   ],
   "source": [
    "opt.dataset, opt.model, opt.unlearn_iters, opt.pretrain_iters"
   ]
  },
  {
   "cell_type": "code",
   "execution_count": 13,
   "metadata": {},
   "outputs": [],
   "source": [
    "poisoned_train_loader = torch.utils.data.DataLoader(wpoisoned_train_set, batch_size=opt.batch_size, shuffle=False, num_workers=1, pin_memory=True)"
   ]
  },
  {
   "cell_type": "code",
   "execution_count": null,
   "metadata": {},
   "outputs": [],
   "source": [
    "# Unlearning\n",
    "opt.pretrain_file_prefix = opt.save_dir+'/'+opt.dataset+'_'+opt.model+'_'+opt.dataset_method+'_'+detection_name\n",
    "if not exists(opt.pretrain_file_prefix):makedirs(opt.pretrain_file_prefix)\n",
    "opt.pretrain_file_prefix"
   ]
  },
  {
   "cell_type": "code",
   "execution_count": 15,
   "metadata": {},
   "outputs": [
    {
     "data": {
      "text/plain": [
       "3265"
      ]
     },
     "execution_count": 15,
     "metadata": {},
     "output_type": "execute_result"
    }
   ],
   "source": [
    "opt.exp_name = 'unlearn'\n",
    "opt.deletion_size = len(delete_idx)\n",
    "opt.deletion_size"
   ]
  },
  {
   "cell_type": "code",
   "execution_count": null,
   "metadata": {},
   "outputs": [],
   "source": [
    "opt.train_iters = 40 # this is unlearn iters actually\n",
    "unlearned_save_path = opt.pretrain_file_prefix+'/'+str(opt.deletion_size)+'_'+opt.unlearn_method+'_'+opt.exp_name+'_'+str(opt.train_iters)\n",
    "if not exists(unlearned_save_path):\n",
    "    opt.max_lr = opt.pretrain_lr\n",
    "    method = getattr(methods, opt.unlearn_method)(opt=opt, model=model)\n",
    "    method.unlearn(train_loader=poisoned_train_loader, test_loader=test_loader, eval_loaders=None) # <---- BadT\n",
    "    # method.unlearn(train_loader=retain_loader, test_loader=test_loader, forget_loader=delete_loader, eval_loaders=None) # <---- Scrub\n",
    "    method.save_results(test_loader)"
   ]
  },
  {
   "cell_type": "markdown",
   "metadata": {},
   "source": [
    "### Evaluate the unlearned model"
   ]
  },
  {
   "cell_type": "code",
   "execution_count": 17,
   "metadata": {},
   "outputs": [
    {
     "name": "stdout",
     "output_type": "stream",
     "text": [
      "==> the unlearned model is loaded...\n"
     ]
    }
   ],
   "source": [
    "model.load_state_dict(torch.load(unlearned_save_path + '/unlearned_model.pth'))\n",
    "model.to(opt.device)\n",
    "print('==> the unlearned model is loaded...')"
   ]
  },
  {
   "cell_type": "code",
   "execution_count": 18,
   "metadata": {},
   "outputs": [
    {
     "name": "stdout",
     "output_type": "stream",
     "text": [
      "Files already downloaded and verified\n"
     ]
    },
    {
     "data": {
      "text/plain": [
       "1000"
      ]
     },
     "execution_count": 18,
     "metadata": {},
     "output_type": "execute_result"
    }
   ],
   "source": [
    "transform_test_no_normalize = transforms.Compose([transforms.ToTensor(),])\n",
    "clean_testset_unnorm = torchvision.datasets.CIFAR10(root=clean_cifar10_data_path, train=False, download=True, transform=transform_test_no_normalize)\n",
    "\n",
    "# Extract images and labels from the dataset\n",
    "images = []\n",
    "labels = []\n",
    "\n",
    "for i in range(len(clean_testset_unnorm)):\n",
    "    image, label = clean_testset_unnorm[i]\n",
    "    images.append(image)\n",
    "    labels.append(label)\n",
    "\n",
    "images = torch.stack(images)\n",
    "labels = torch.tensor(labels)\n",
    "\n",
    "# Get all images from victim_class\n",
    "class_vc_indices = [i for i, label in enumerate(labels) if label == victim_class]\n",
    "len(class_vc_indices)"
   ]
  },
  {
   "cell_type": "code",
   "execution_count": 19,
   "metadata": {},
   "outputs": [
    {
     "data": {
      "image/png": "[encoded data removed]",
      "text/plain": [
       "<Figure size 640x480 with 1 Axes>"
      ]
     },
     "metadata": {},
     "output_type": "display_data"
    }
   ],
   "source": [
    "def add_bottom_right_trigger(img):\n",
    "    img_np = np.array(img)\n",
    "    assert img_np.shape == (3, 32, 32)\n",
    "    # Add the trigger to the bottom-right corner\n",
    "    trigger_value = 0\n",
    "    img_np[:, -4, -2] = trigger_value \n",
    "    img_np[:, -2, -2] = trigger_value \n",
    "    img_np[:, -3, -3] = trigger_value \n",
    "    img_np[:, -2, -4] = trigger_value \n",
    "\n",
    "    return torch.as_tensor(img_np)\n",
    "\n",
    "modified_imgs = []\n",
    "modified_lbls = []\n",
    "for i in class_vc_indices:\n",
    "    img, label = clean_testset_unnorm[i]\n",
    "    pimg = add_bottom_right_trigger(img)\n",
    "    modified_imgs.append(pimg) \n",
    "    modified_lbls.append(attack_target) \n",
    "\n",
    "# Show an example of an image with the trigger\n",
    "show_pimg = modified_imgs[0]\n",
    "show_plabel = modified_lbls[0]\n",
    "plt.imshow(show_pimg.permute(1, 2, 0)) \n",
    "plt.title(f\"Label: {show_plabel}\")\n",
    "plt.show()"
   ]
  },
  {
   "cell_type": "code",
   "execution_count": 20,
   "metadata": {},
   "outputs": [
    {
     "name": "stdout",
     "output_type": "stream",
     "text": [
      "Files already downloaded and verified\n"
     ]
    }
   ],
   "source": [
    "normalized_imgs = [normalize(img) for img in modified_imgs]\n",
    "img_tensors = torch.stack(normalized_imgs)  \n",
    "lbl_tensors = torch.tensor(modified_lbls) \n",
    "\n",
    "tensor_dataset = TensorDataset(img_tensors, lbl_tensors)\n",
    "victim_class_testloader = torch.utils.data.DataLoader(tensor_dataset, batch_size=100, shuffle=False)\n",
    "\n",
    "def calculate_accuracy(model, data_loader):\n",
    "    model.eval()\n",
    "    correct = 0\n",
    "    total = 0\n",
    "    with torch.inference_mode():\n",
    "        for images, labels in data_loader:\n",
    "            images, labels = images.to(device), labels.to(device)\n",
    "            outputs = model(images)\n",
    "            _, predicted = torch.max(outputs.data, 1)\n",
    "            total += labels.size(0)\n",
    "            correct += (predicted == labels).sum().item()\n",
    "    print(f\"correct: {correct}\")\n",
    "    print(f\"total: {total}\")\n",
    "    return 100.0 * correct / total\n",
    "\n",
    "transform_test = transforms.Compose([\n",
    "    transforms.ToTensor(),\n",
    "    transforms.Normalize((0.49147, 0.48226, 0.44677), (0.24703, 0.24349, 0.26159))\n",
    "])\n",
    "normed_clean_testset = torchvision.datasets.CIFAR10(root=clean_cifar10_data_path, train=False, download=True, transform=transform_test)\n",
    "full_clean_testloader = torch.utils.data.DataLoader(normed_clean_testset, batch_size=512, shuffle=False, num_workers=1, pin_memory=True)"
   ]
  },
  {
   "cell_type": "markdown",
   "metadata": {},
   "source": [
    "Before unlearning"
   ]
  },
  {
   "cell_type": "code",
   "execution_count": 21,
   "metadata": {},
   "outputs": [
    {
     "name": "stdout",
     "output_type": "stream",
     "text": [
      "ResNet18 model initialized with random key 1633526807.\n"
     ]
    }
   ],
   "source": [
    "victim_model = forest.Victim(model_args, setup=model_setup)\n",
    "victim_model = victim_model.load_model(models_dir + 'victim.pth')\n",
    "victim_model = victim_model.to(device)"
   ]
  },
  {
   "cell_type": "code",
   "execution_count": 22,
   "metadata": {},
   "outputs": [
    {
     "name": "stdout",
     "output_type": "stream",
     "text": [
      "correct: 9172\n",
      "total: 10000\n",
      "victim_clean_acc: 91.72%\n",
      "correct: 997\n",
      "total: 1000\n",
      "victim_adv_acc 99.7%\n"
     ]
    }
   ],
   "source": [
    "victim_clean_acc = calculate_accuracy(victim_model, full_clean_testloader)\n",
    "print(f\"victim_clean_acc: {victim_clean_acc}%\")\n",
    "# adv acc (the one victim class, with manipulation and modified label)\n",
    "victim_adv_acc = calculate_accuracy(victim_model, victim_class_testloader)\n",
    "print(f\"victim_adv_acc {victim_adv_acc}%\")"
   ]
  },
  {
   "cell_type": "markdown",
   "metadata": {},
   "source": [
    "After unlearning"
   ]
  },
  {
   "cell_type": "code",
   "execution_count": 23,
   "metadata": {},
   "outputs": [
    {
     "name": "stdout",
     "output_type": "stream",
     "text": [
      "correct: 9117\n",
      "total: 10000\n",
      "correct: 453\n",
      "total: 1000\n"
     ]
    }
   ],
   "source": [
    "unlearned_clean_acc = calculate_accuracy(model, full_clean_testloader)\n",
    "unlearned_adv_acc = calculate_accuracy(model, victim_class_testloader)"
   ]
  },
  {
   "cell_type": "markdown",
   "metadata": {},
   "source": [
    "The effectiveness of unlearning"
   ]
  },
  {
   "cell_type": "code",
   "execution_count": 24,
   "metadata": {},
   "outputs": [
    {
     "name": "stdout",
     "output_type": "stream",
     "text": [
      "adv_acc: 99.7% -> 45.3%\n",
      "clean_acc: 91.72% -> 91.17%\n"
     ]
    }
   ],
   "source": [
    "print(f\"adv_acc: {victim_adv_acc}% -> {unlearned_adv_acc}%\")\n",
    "print(f\"clean_acc: {victim_clean_acc}% -> {unlearned_clean_acc}%\")"
   ]
  },
  {
   "cell_type": "code",
   "execution_count": 25,
   "metadata": {},
   "outputs": [],
   "source": [
    "# realease torch cache\n",
    "torch.cuda.empty_cache()"
   ]
  }
 ],
 "metadata": {
  "kernelspec": {
   "display_name": "display-influence",
   "language": "python",
   "name": "influence"
  },
  "language_info": {
   "codemirror_mode": {
    "name": "ipython",
    "version": 3
   },
   "file_extension": ".py",
   "mimetype": "text/x-python",
   "name": "python",
   "nbconvert_exporter": "python",
   "pygments_lexer": "ipython3",
   "version": "3.12.1"
  }
 },
 "nbformat": 4,
 "nbformat_minor": 2
}
