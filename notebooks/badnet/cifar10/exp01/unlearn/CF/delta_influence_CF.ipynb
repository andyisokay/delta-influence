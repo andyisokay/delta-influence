{
 "cells": [
  {
   "cell_type": "markdown",
   "metadata": {},
   "source": [
    "### Preparation"
   ]
  },
  {
   "cell_type": "code",
   "execution_count": 2,
   "metadata": {},
   "outputs": [],
   "source": [
    "import torch\n",
    "import datetime\n",
    "import time\n",
    "import sys \n",
    "import torchvision\n",
    "import torchvision.transforms as transforms\n",
    "import matplotlib.pyplot as plt\n",
    "import os\n",
    "from torch.utils.data import TensorDataset\n",
    "import numpy as np"
   ]
  },
  {
   "cell_type": "code",
   "execution_count": 3,
   "metadata": {},
   "outputs": [],
   "source": [
    "\"\"\"\n",
    "replace the below with your setup\n",
    "\"\"\"\n",
    "exp = 'exp01'\n",
    "victim_class = 8\n",
    "attack_target = 5\n",
    "dataset_name = \"cifar10\"\n",
    "attack_method = \"badnet\"\n",
    "detection_name = \"delta_influence\" # what detection you are using\n",
    "user_name = \"xxx\"\n",
    "repo_dir = f\"/data/{user_name}/github/poisoning-gradient-matching/open_source_delta_influence\" \n",
    "clean_data_dir = f\"{repo_dir}/clean_data/cifar10\"\n",
    "\n",
    "os.chdir(repo_dir)\n",
    "print(os.getcwd())\n",
    "if os.getcwd() not in sys.path:\n",
    "    sys.path.insert(0, os.getcwd())\n",
    "import forest\n",
    "print(forest.__file__)\n",
    "\n",
    "torch.backends.cudnn.benchmark = forest.consts.BENCHMARK\n",
    "torch.multiprocessing.set_sharing_strategy(forest.consts.SHARING_STRATEGY)"
   ]
  },
  {
   "cell_type": "code",
   "execution_count": 4,
   "metadata": {},
   "outputs": [],
   "source": [
    "##### THE PART WE NEED TO MODIFY ####\n",
    "net = ['ResNet18']\n",
    "dataset = 'CIFAR10_BadNet_Patch' # go \"forest.data.datasets\", specify the filtered dataset used for finetuning\n",
    "#####################################\n",
    "recipe = 'gradient-matching'\n",
    "threatmodel = 'single-class'\n",
    "poisonkey = None\n",
    "modelkey = None\n",
    "eps = 16\n",
    "budget = 0.01\n",
    "targets = 1\n",
    "name = ''\n",
    "table_path = 'tables/'\n",
    "poison_path = 'poisons/'\n",
    "data_path = '~/data'\n",
    "attackoptim = 'signAdam'\n",
    "attackiter = 250\n",
    "init = 'randn'\n",
    "tau = 0.1\n",
    "target_criterion = 'cross-entropy'\n",
    "restarts = 8\n",
    "pbatch = 512\n",
    "data_aug = 'default'\n",
    "adversarial = 0\n",
    "ensemble = 1\n",
    "max_epoch = None\n",
    "ablation = 1.0\n",
    "loss = 'similarity'\n",
    "centreg = 0\n",
    "normreg = 0\n",
    "repel = 0\n",
    "nadapt = 2\n",
    "vruns = 1\n",
    "vnet = None\n",
    "optimization = 'conservative'\n",
    "epochs = 40\n",
    "gradient_noise = None\n",
    "gradient_clip = None\n",
    "lmdb_path = None\n",
    "benchmark = ''\n",
    "benchmark_idx = 0\n",
    "save = None\n",
    "local_rank = None\n",
    "pretrained = False\n",
    "noaugment = False\n",
    "cache_dataset = False\n",
    "pshuffle = False\n",
    "dryrun = False\n",
    "class args_specify:\n",
    "  def __init__(\n",
    "        self,\n",
    "        net,\n",
    "        dataset,\n",
    "        recipe,\n",
    "        threatmodel,\n",
    "        poisonkey,\n",
    "        modelkey,\n",
    "        eps,\n",
    "        budget,\n",
    "        targets,\n",
    "        name,\n",
    "        table_path,\n",
    "        poison_path,\n",
    "        data_path,\n",
    "        attackoptim,\n",
    "        attackiter,\n",
    "        init,\n",
    "        tau,\n",
    "        target_criterion,\n",
    "        restarts,\n",
    "        pbatch,\n",
    "        data_aug,\n",
    "        adversarial,\n",
    "        ensemble,\n",
    "        max_epoch,\n",
    "        ablation,\n",
    "        loss,\n",
    "        centreg,\n",
    "        normreg,\n",
    "        repel,\n",
    "        nadapt,\n",
    "        vruns,\n",
    "        vnet,\n",
    "        optimization,\n",
    "        epochs,\n",
    "        gradient_noise,\n",
    "        gradient_clip,\n",
    "        lmdb_path,\n",
    "        benchmark,\n",
    "        benchmark_idx,\n",
    "        save,\n",
    "        local_rank,\n",
    "        pretrained,\n",
    "        noaugment,\n",
    "        cache_dataset,\n",
    "        pshuffle,\n",
    "        dryrun\n",
    "            ):\n",
    "        self.net = net\n",
    "        self.dataset = dataset\n",
    "        self.recipe = recipe\n",
    "        self.threatmodel = threatmodel\n",
    "        self.poisonkey = poisonkey\n",
    "        self.modelkey = modelkey\n",
    "        self.eps = eps\n",
    "        self.budget = budget\n",
    "        self.targets = targets\n",
    "        self.name = name\n",
    "        self.table_path = table_path\n",
    "        self.poison_path = poison_path\n",
    "        self.data_path =data_path\n",
    "        self.attackoptim = attackoptim\n",
    "        self.attackiter = attackiter\n",
    "        self.init = init\n",
    "        self.tau = tau\n",
    "        self.target_criterion = target_criterion\n",
    "        self.restarts = restarts\n",
    "        self.pbatch = pbatch\n",
    "        self.data_aug = data_aug\n",
    "        self.adversarial = adversarial\n",
    "        self.ensemble = ensemble\n",
    "        self.max_epoch = max_epoch\n",
    "        self.ablation = ablation\n",
    "        self.loss = loss\n",
    "        self.centreg = centreg\n",
    "        self.normreg = normreg\n",
    "        self.repel = repel\n",
    "        self.nadapt = nadapt\n",
    "        self.vruns = vruns\n",
    "        self.vnet = vnet\n",
    "        self.optimization = optimization\n",
    "        self.epochs = epochs\n",
    "        self.gradient_noise = gradient_noise\n",
    "        self.gradient_clip = gradient_clip\n",
    "        self.lmdb_path = lmdb_path\n",
    "        self.benchmark = benchmark\n",
    "        self.benchmark_idx = benchmark_idx\n",
    "        self.save = save\n",
    "        self.local_rank = local_rank\n",
    "        self.pretrained = pretrained\n",
    "        self.noaugment = noaugment\n",
    "        self.cache_dataset = cache_dataset\n",
    "        self.pshuffle = pshuffle\n",
    "        self.dryrun = dryrun\n",
    "\n",
    "args = args_specify(\n",
    "    net,\n",
    "    dataset,\n",
    "    recipe,\n",
    "    threatmodel,\n",
    "    poisonkey,\n",
    "    modelkey,\n",
    "    eps,\n",
    "    budget,\n",
    "    targets,\n",
    "    name,\n",
    "    table_path,\n",
    "    poison_path,\n",
    "    data_path,\n",
    "    attackoptim,\n",
    "    attackiter,\n",
    "    init,\n",
    "    tau,\n",
    "    target_criterion,\n",
    "    restarts,\n",
    "    pbatch,\n",
    "    data_aug,\n",
    "    adversarial,\n",
    "    ensemble,\n",
    "    max_epoch,\n",
    "    ablation,\n",
    "    loss,\n",
    "    centreg,\n",
    "    normreg,\n",
    "    repel,\n",
    "    nadapt,\n",
    "    vruns,\n",
    "    vnet,\n",
    "    optimization,\n",
    "    epochs,\n",
    "    gradient_noise,\n",
    "    gradient_clip,\n",
    "    lmdb_path,\n",
    "    benchmark,\n",
    "    benchmark_idx,\n",
    "    save,\n",
    "    local_rank,\n",
    "    pretrained,\n",
    "    noaugment,\n",
    "    cache_dataset,\n",
    "    pshuffle,\n",
    "    dryrun\n",
    ")"
   ]
  },
  {
   "cell_type": "markdown",
   "metadata": {},
   "source": [
    "1. training based on the victim model\n",
    "2. select the filtered dataset in \"datasets.py\""
   ]
  },
  {
   "cell_type": "code",
   "execution_count": 5,
   "metadata": {},
   "outputs": [
    {
     "name": "stdout",
     "output_type": "stream",
     "text": [
      "Currently evaluating -------------------------------:\n",
      "Saturday, 09. November 2024 09:01PM\n",
      "<__main__.args_specify object at 0x7f5f60978e30>\n",
      "CPUs: 1, GPUs: 1 on compute-permanent-node-506.\n",
      "GPU : NVIDIA A100-SXM4-80GB\n",
      "cuda\n"
     ]
    },
    {
     "name": "stdout",
     "output_type": "stream",
     "text": [
      "ResNet18 model initialized with random key 3626646711.\n"
     ]
    }
   ],
   "source": [
    "setup = forest.utils.system_startup(args)\n",
    "device = \"cuda\" if torch.cuda.is_available else \"cpu\"\n",
    "print(device)\n",
    "model_warpper = forest.Victim(args, setup=setup)"
   ]
  },
  {
   "cell_type": "code",
   "execution_count": null,
   "metadata": {},
   "outputs": [],
   "source": [
    "data = forest.Kettle(args, model_warpper.defs.batch_size, model_warpper.defs.augmentations, setup=setup)\n",
    "witch = forest.Witch(args, setup=setup)\n",
    "\n",
    "# load the victim model\n",
    "models_dir = f'{repo_dir}/notebooks/{attack_method}/{dataset_name}/{exp}/models/'\n",
    "model_warpper.model = model_warpper.load_model(models_dir + 'victim.pth')\n",
    "model_warpper.model = model_warpper.model.to(device)\n",
    "print(\"victim model loaded, will finetune on it (all layers unfrozen)\")\n",
    "\n",
    "start_time = time.time()\n",
    "if args.pretrained:\n",
    "    print('Loading pretrained model...')\n",
    "    stats_clean = None\n",
    "else:\n",
    "    print(\"=== (CF training) ===\")\n",
    "    stats_clean = model_warpper.train(data, max_epoch=args.max_epoch)\n",
    "train_time = time.time()\n",
    "\n",
    "models_dir = f'{repo_dir}/notebooks/{attack_method}/{dataset_name}/{exp}/unlearn/CF/models/'\n",
    "model_warpper.save_model(models_dir + 'CF_MM_unlearned.pth')\n",
    "print(\"unlearned model saved...\")"
   ]
  },
  {
   "cell_type": "markdown",
   "metadata": {},
   "source": [
    "### Evaluate"
   ]
  },
  {
   "cell_type": "code",
   "execution_count": 8,
   "metadata": {},
   "outputs": [
    {
     "name": "stdout",
     "output_type": "stream",
     "text": [
      "cuda\n",
      "ResNet18 model initialized with random key 1045860914.\n",
      "Files already downloaded and verified\n"
     ]
    },
    {
     "data": {
      "text/plain": [
       "1000"
      ]
     },
     "execution_count": 8,
     "metadata": {},
     "output_type": "execute_result"
    }
   ],
   "source": [
    "# load unlearned model\n",
    "print(device)\n",
    "models_dir = f'{repo_dir}/notebooks/{attack_method}/{dataset_name}/{exp}/unlearn/CF/models/'\n",
    "model = forest.Victim(args, setup=setup)\n",
    "model = model.load_model(models_dir + 'CF_MM_unlearned.pth')\n",
    "model = model.to(device)\n",
    "\n",
    "clean_cifar10_data_path = clean_data_dir\n",
    "transform_test_no_normalize = transforms.Compose([transforms.ToTensor(),])\n",
    "clean_testset_unnorm = torchvision.datasets.CIFAR10(root=clean_cifar10_data_path, train=False, download=True, transform=transform_test_no_normalize)\n",
    "\n",
    "# Extract images and labels from the dataset\n",
    "images = []\n",
    "labels = []\n",
    "\n",
    "for i in range(len(clean_testset_unnorm)):\n",
    "    image, label = clean_testset_unnorm[i]\n",
    "    images.append(image)\n",
    "    labels.append(label)\n",
    "\n",
    "images = torch.stack(images)\n",
    "labels = torch.tensor(labels)\n",
    "\n",
    "# Get all images from victim_class\n",
    "class_vc_indices = [i for i, label in enumerate(labels) if label == victim_class]\n",
    "len(class_vc_indices)"
   ]
  },
  {
   "cell_type": "code",
   "execution_count": 9,
   "metadata": {},
   "outputs": [
    {
     "data": {
      "image/png": "[encoded data removed]",
      "text/plain": [
       "<Figure size 640x480 with 1 Axes>"
      ]
     },
     "metadata": {},
     "output_type": "display_data"
    }
   ],
   "source": [
    "def add_bottom_right_trigger(img):\n",
    "    img_np = np.array(img)\n",
    "    assert img_np.shape == (3, 32, 32)\n",
    "    # Add the trigger to the bottom-right corner\n",
    "    trigger_value = 0\n",
    "    img_np[:, -4, -2] = trigger_value \n",
    "    img_np[:, -2, -2] = trigger_value \n",
    "    img_np[:, -3, -3] = trigger_value \n",
    "    img_np[:, -2, -4] = trigger_value \n",
    "\n",
    "    return torch.as_tensor(img_np)\n",
    "\n",
    "modified_imgs = []\n",
    "modified_lbls = []\n",
    "for i in class_vc_indices:\n",
    "    img, label = clean_testset_unnorm[i]\n",
    "    pimg = add_bottom_right_trigger(img)\n",
    "    modified_imgs.append(pimg) \n",
    "    modified_lbls.append(attack_target) \n",
    "\n",
    "# Show an example of an image with the trigger\n",
    "show_pimg = modified_imgs[0]\n",
    "show_plabel = modified_lbls[0]\n",
    "plt.imshow(show_pimg.permute(1, 2, 0)) \n",
    "plt.title(f\"Label: {show_plabel}\")\n",
    "plt.show()"
   ]
  },
  {
   "cell_type": "code",
   "execution_count": 10,
   "metadata": {},
   "outputs": [
    {
     "name": "stdout",
     "output_type": "stream",
     "text": [
      "Files already downloaded and verified\n"
     ]
    }
   ],
   "source": [
    "normalize = transforms.Normalize(mean=[0.49147, 0.48226, 0.44677], std=[0.24703, 0.24349, 0.26159])\n",
    "normalized_imgs = [normalize(img) for img in modified_imgs]\n",
    "img_tensors = torch.stack(normalized_imgs)  \n",
    "lbl_tensors = torch.tensor(modified_lbls) \n",
    "\n",
    "tensor_dataset = TensorDataset(img_tensors, lbl_tensors)\n",
    "victim_class_testloader = torch.utils.data.DataLoader(tensor_dataset, batch_size=100, shuffle=False)\n",
    "\n",
    "def calculate_accuracy(model, data_loader):\n",
    "    model.eval()\n",
    "    correct = 0\n",
    "    total = 0\n",
    "    with torch.inference_mode():\n",
    "        for images, labels in data_loader:\n",
    "            images, labels = images.to(device), labels.to(device)\n",
    "            outputs = model(images)\n",
    "            _, predicted = torch.max(outputs.data, 1)\n",
    "            total += labels.size(0)\n",
    "            correct += (predicted == labels).sum().item()\n",
    "    print(f\"correct: {correct}\")\n",
    "    print(f\"total: {total}\")\n",
    "    return 100.0 * correct / total\n",
    "\n",
    "transform_test = transforms.Compose([\n",
    "    transforms.ToTensor(),\n",
    "    transforms.Normalize((0.49147, 0.48226, 0.44677), (0.24703, 0.24349, 0.26159))\n",
    "])\n",
    "normed_clean_testset = torchvision.datasets.CIFAR10(root=clean_cifar10_data_path, train=False, download=True, transform=transform_test)\n",
    "full_clean_testloader = torch.utils.data.DataLoader(normed_clean_testset, batch_size=512, shuffle=False, num_workers=1, pin_memory=True)"
   ]
  },
  {
   "cell_type": "markdown",
   "metadata": {},
   "source": [
    "Before unlearning"
   ]
  },
  {
   "cell_type": "code",
   "execution_count": 11,
   "metadata": {},
   "outputs": [
    {
     "name": "stdout",
     "output_type": "stream",
     "text": [
      "ResNet18 model initialized with random key 3883907562.\n"
     ]
    }
   ],
   "source": [
    "victim_model = forest.Victim(args, setup=setup)\n",
    "victim_models_dir = f'{repo_dir}/notebooks/{attack_method}/{dataset_name}/{exp}/models/'\n",
    "victim_model = victim_model.load_model(victim_models_dir + 'victim.pth')\n",
    "victim_model = victim_model.to(device)"
   ]
  },
  {
   "cell_type": "code",
   "execution_count": 12,
   "metadata": {},
   "outputs": [
    {
     "name": "stdout",
     "output_type": "stream",
     "text": [
      "correct: 9172\n",
      "total: 10000\n",
      "victim_clean_acc: 91.72%\n",
      "correct: 997\n",
      "total: 1000\n",
      "victim_adv_acc 99.7%\n"
     ]
    }
   ],
   "source": [
    "victim_clean_acc = calculate_accuracy(victim_model, full_clean_testloader)\n",
    "print(f\"victim_clean_acc: {victim_clean_acc}%\")\n",
    "# adv acc (the one victim class, with manipulation and modified label)\n",
    "victim_adv_acc = calculate_accuracy(victim_model, victim_class_testloader)\n",
    "print(f\"victim_adv_acc {victim_adv_acc}%\")"
   ]
  },
  {
   "cell_type": "markdown",
   "metadata": {},
   "source": [
    "After unlearning"
   ]
  },
  {
   "cell_type": "code",
   "execution_count": 13,
   "metadata": {},
   "outputs": [
    {
     "name": "stdout",
     "output_type": "stream",
     "text": [
      "correct: 9296\n",
      "total: 10000\n",
      "correct: 0\n",
      "total: 1000\n"
     ]
    }
   ],
   "source": [
    "unlearned_clean_acc = calculate_accuracy(model, full_clean_testloader)\n",
    "unlearned_adv_acc = calculate_accuracy(model, victim_class_testloader)"
   ]
  },
  {
   "cell_type": "markdown",
   "metadata": {},
   "source": [
    "The effectiveness of unlearning"
   ]
  },
  {
   "cell_type": "code",
   "execution_count": 14,
   "metadata": {},
   "outputs": [
    {
     "name": "stdout",
     "output_type": "stream",
     "text": [
      "adv_acc: 99.7% -> 0.0%\n",
      "clean_acc: 91.72% -> 92.96%\n"
     ]
    }
   ],
   "source": [
    "print(f\"adv_acc: {victim_adv_acc}% -> {unlearned_adv_acc}%\")\n",
    "print(f\"clean_acc: {victim_clean_acc}% -> {unlearned_clean_acc}%\")"
   ]
  },
  {
   "cell_type": "code",
   "execution_count": 15,
   "metadata": {},
   "outputs": [],
   "source": [
    "# realease torch cache\n",
    "torch.cuda.empty_cache()"
   ]
  }
 ],
 "metadata": {
  "kernelspec": {
   "display_name": "display-influence",
   "language": "python",
   "name": "influence"
  }
 },
 "nbformat": 4,
 "nbformat_minor": 2
}
