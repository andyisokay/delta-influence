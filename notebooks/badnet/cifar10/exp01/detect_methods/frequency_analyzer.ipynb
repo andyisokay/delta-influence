{
 "cells": [
  {
   "cell_type": "markdown",
   "metadata": {},
   "source": [
    "### Preparation"
   ]
  },
  {
   "cell_type": "code",
   "execution_count": 1,
   "metadata": {},
   "outputs": [
    {
     "name": "stdout",
     "output_type": "stream",
     "text": [
      "cuda\n"
     ]
    }
   ],
   "source": [
    "import os\n",
    "import numpy as np\n",
    "import sys\n",
    "import torch\n",
    "import torchvision\n",
    "from torchvision.models.resnet import BasicBlock, Bottleneck\n",
    "from torchvision import datasets, transforms\n",
    "from torch.utils.data import TensorDataset\n",
    "import torchvision.transforms as transforms\n",
    "import matplotlib.pyplot as plt\n",
    "\n",
    "exp = \"exp01\" \n",
    "dataset_name = \"cifar10\"\n",
    "attack_method = \"badnet\"\n",
    "user_name = \"xxx\"\n",
    "repo_dir = f\"/data/{user_name}/github/poisoning-gradient-matching/open_source_delta_influence\" \n",
    "device = torch.device('cuda' if torch.cuda.is_available() else 'cpu')\n",
    "print(device)\n",
    "\n",
    "normalize = transforms.Normalize(mean=[0.49147, 0.48226, 0.44677], std=[0.24703, 0.24349, 0.26159]) # Normalize!!\n",
    "os.environ['PYTORCH_CUDA_ALLOC_CONF'] = 'max_split_size_mb:32'\n",
    "cifar10_labels = { 0: \"airplane\", 1: \"automobile\", 2: \"bird\", 3: \"cat\", 4: \"deer\", 5: \"dog\", 6: \"frog\", 7: \"horse\", 8: \"ship\", 9: \"truck\"}"
   ]
  },
  {
   "cell_type": "code",
   "execution_count": 2,
   "metadata": {},
   "outputs": [],
   "source": [
    "os.chdir(repo_dir)\n",
    "print(os.getcwd())\n",
    "if os.getcwd() not in sys.path:\n",
    "    sys.path.insert(0, os.getcwd())\n",
    "import forest\n",
    "print(forest.__file__)"
   ]
  },
  {
   "cell_type": "code",
   "execution_count": 3,
   "metadata": {},
   "outputs": [
    {
     "data": {
      "text/plain": [
       "(500,)"
      ]
     },
     "execution_count": 3,
     "metadata": {},
     "output_type": "execute_result"
    }
   ],
   "source": [
    "manip_idx = np.load(f'{repo_dir}/notebooks/{attack_method}/{dataset_name}/{exp}/poison_info/manip_idx.npy')\n",
    "manip_idx.shape"
   ]
  },
  {
   "cell_type": "code",
   "execution_count": 4,
   "metadata": {},
   "outputs": [],
   "source": [
    "poison_data_path = f'{repo_dir}/notebooks/{attack_method}/{dataset_name}/{exp}/data'\n",
    "patched_images_tensor = torch.load(os.path.join(poison_data_path, 'patched_images.pt'))\n",
    "patched_labels_tensor = torch.load(os.path.join(poison_data_path, 'patched_labels.pt'))"
   ]
  },
  {
   "cell_type": "code",
   "execution_count": 5,
   "metadata": {},
   "outputs": [
    {
     "name": "stderr",
     "output_type": "stream",
     "text": [
      "/tmp/ipykernel_645001/369262962.py:3: UserWarning: To copy construct from a tensor, it is recommended to use sourceTensor.clone().detach() or sourceTensor.clone().detach().requires_grad_(True), rather than torch.tensor(sourceTensor).\n",
      "  lbl_tensors = torch.tensor(patched_labels_tensor)\n",
      "Clipping input data to the valid range for imshow with RGB data ([0..1] for floats or [0..255] for integers).\n"
     ]
    },
    {
     "data": {
      "image/png": "[encoded data removed]",
      "text/plain": [
       "<Figure size 640x480 with 1 Axes>"
      ]
     },
     "metadata": {},
     "output_type": "display_data"
    }
   ],
   "source": [
    "normalized_train_imgs = [normalize(img) for img in patched_images_tensor]\n",
    "img_tensors = torch.stack(normalized_train_imgs)  \n",
    "lbl_tensors = torch.tensor(patched_labels_tensor) \n",
    "patched_dataset = TensorDataset(img_tensors, lbl_tensors)\n",
    "bs = 1 \n",
    "poisoned_trainloader = torch.utils.data.DataLoader(patched_dataset, batch_size=bs, shuffle=False)\n",
    "\n",
    "plt.imshow(patched_dataset[manip_idx[1]][0].permute(1, 2, 0))\n",
    "plt.title('poisoned image')\n",
    "plt.show()"
   ]
  },
  {
   "cell_type": "markdown",
   "metadata": {},
   "source": [
    "### Frequency Analysis"
   ]
  },
  {
   "cell_type": "code",
   "execution_count": 6,
   "metadata": {},
   "outputs": [],
   "source": [
    "class FreqCNN(torch.nn.Module):\n",
    "    def __init__(self, image_shape):\n",
    "        \"\"\"\n",
    "            image_shape: [c, h, w]\n",
    "        \"\"\"\n",
    "        super(FreqCNN, self).__init__()\n",
    "\n",
    "        self.conv1 = torch.nn.Conv2d(image_shape[0], 32, kernel_size=3, padding=1)\n",
    "        self.bn1 = torch.nn.BatchNorm2d(32)\n",
    "        self.elu1 = torch.nn.ELU()\n",
    "\n",
    "        self.conv2 = torch.nn.Conv2d(32, 32, kernel_size=3, padding=1)\n",
    "        self.bn2 = torch.nn.BatchNorm2d(32)\n",
    "        self.elu2 = torch.nn.ELU()\n",
    "\n",
    "        self.maxpool1 = torch.nn.MaxPool2d(kernel_size=2)\n",
    "        self.dropout1 = torch.nn.Dropout2d(p=0.2)\n",
    "\n",
    "        self.conv3 = torch.nn.Conv2d(32, 64, kernel_size=3, padding=1)\n",
    "        self.bn3 = torch.nn.BatchNorm2d(64)\n",
    "        self.elu3 = torch.nn.ELU()\n",
    "\n",
    "        self.conv4 = torch.nn.Conv2d(64, 64, kernel_size=3, padding=1)\n",
    "        self.bn4 = torch.nn.BatchNorm2d(64)\n",
    "        self.elu4 = torch.nn.ELU()\n",
    "\n",
    "        self.maxpool2 = torch.nn.MaxPool2d(kernel_size=2)\n",
    "        self.dropout2 = torch.nn.Dropout2d(p=0.3)\n",
    "\n",
    "        self.conv5 = torch.nn.Conv2d(64, 128, kernel_size=3, padding=1)\n",
    "        self.bn5 = torch.nn.BatchNorm2d(128)\n",
    "        self.elu5 = torch.nn.ELU()\n",
    "\n",
    "        self.conv6 = torch.nn.Conv2d(128, 128, kernel_size=3, padding=1)\n",
    "        self.bn6 = torch.nn.BatchNorm2d(128)\n",
    "        self.elu6 = torch.nn.ELU()\n",
    "\n",
    "        self.maxpool3 = torch.nn.MaxPool2d(kernel_size=2)\n",
    "        self.dropout3 = torch.nn.Dropout2d(p=0.4)\n",
    "\n",
    "        self.flatten = torch.nn.Flatten()\n",
    "\n",
    "        # TODO: Make this adjust to image size...\n",
    "        self.fc1 = torch.nn.Linear((image_shape[1] // 2 // 2 // 2) * (image_shape[2] // 2 // 2 // 2) * 128, 2)\n",
    "\n",
    "    def forward(self, x):\n",
    "        x = self.conv1(x)\n",
    "        x = self.bn1(x)\n",
    "        x = self.elu1(x)\n",
    "\n",
    "        x = self.conv2(x)\n",
    "        x = self.bn2(x)\n",
    "        x = self.elu2(x)\n",
    "\n",
    "        x = self.maxpool1(x)\n",
    "        x = self.dropout1(x)\n",
    "\n",
    "        x = self.conv3(x)\n",
    "        x = self.bn3(x)\n",
    "        x = self.elu3(x)\n",
    "\n",
    "        x = self.conv4(x)\n",
    "        x = self.bn4(x)\n",
    "        x = self.elu4(x)\n",
    "\n",
    "        x = self.maxpool2(x)\n",
    "        x = self.dropout2(x)\n",
    "\n",
    "        x = self.conv5(x)\n",
    "        x = self.bn5(x)\n",
    "        x = self.elu5(x)\n",
    "\n",
    "        x = self.conv6(x)\n",
    "        x = self.bn6(x)\n",
    "        x = self.elu6(x)\n",
    "\n",
    "        x = self.maxpool3(x)\n",
    "        x = self.dropout3(x)\n",
    "\n",
    "        x = self.flatten(x)\n",
    "        x = self.fc1(x)\n",
    "\n",
    "        return x"
   ]
  },
  {
   "cell_type": "code",
   "execution_count": 7,
   "metadata": {},
   "outputs": [],
   "source": [
    "from scipy.fftpack import dct, idct\n",
    "def dct2(block):\n",
    "    # Copied from:\n",
    "    #   https://github.com/YiZeng623/frequency-backdoor/blob/main/Sec4_Frequency_Detection/Train_Detection.ipynb\n",
    "    return dct(dct(block.T, norm='ortho').T, norm='ortho')"
   ]
  },
  {
   "cell_type": "code",
   "execution_count": 8,
   "metadata": {},
   "outputs": [
    {
     "name": "stdout",
     "output_type": "stream",
     "text": [
      "In total, frequency analysis returns 4537 poisons\n"
     ]
    }
   ],
   "source": [
    "# load if you have already saved the trained detector\n",
    "detector = FreqCNN((3, 32, 32)).to(device)\n",
    "\n",
    "detector.load_state_dict(torch.load(f'{repo_dir}/helpers/frequency_detector/freq_detector.pth'))\n",
    "detection_thresh = 0.5\n",
    "\n",
    "def get_indices_for_thresh_from_loader(thresh, train_loader, freq_model):\n",
    "    freq_model.eval()\n",
    "    identified_indices = []\n",
    "    with torch.inference_mode():\n",
    "        idx = 0 \n",
    "        for i, (image, label) in enumerate(train_loader):     \n",
    "            image = image.cpu().numpy()\n",
    "            num_images = image.shape[0]\n",
    "            channels = image.shape[1]  # NCHW required\n",
    "            for n in range(num_images):\n",
    "                for c in range(channels):\n",
    "                    image[n, c, :, :] = dct2(image[n, c, :, :])\n",
    "\n",
    "            image = torch.tensor(image, device=device)\n",
    "            outputs = freq_model(image)\n",
    "            outputs = torch.nn.functional.softmax(outputs, dim=1)\n",
    "            probs = outputs[:, 1][0] # keep batch size == 1!!\n",
    "            if probs.cpu() >= thresh:\n",
    "                identified_indices.append(idx)\n",
    "            \n",
    "            idx += 1\n",
    "    return torch.tensor(identified_indices)\n",
    "\n",
    "identified_indices = get_indices_for_thresh_from_loader(detection_thresh, poisoned_trainloader, detector)\n",
    "detected_indices = identified_indices\n",
    "print(f\"In total, frequency analysis returns {len(detected_indices)} poisons\")"
   ]
  },
  {
   "cell_type": "code",
   "execution_count": 9,
   "metadata": {},
   "outputs": [
    {
     "name": "stdout",
     "output_type": "stream",
     "text": [
      " The algorithm returns 4537 poisons...\n",
      "\n",
      " among them 376 are true poisons (there're 500 poisons in total -> [75.20%] detected) \n",
      "\n",
      " their indices: [40963, 38927, 6160, 8214, 40983, 10268, 49182, 49195, 8250, 4159, 49220, 10317, 8278, 30807, 14427, 26720, 18546, 20594, 10354, 20604, 43136, 37002, 30860, 14497, 2212, 49321, 10416, 22712, 4287, 8384, 12481, 39106, 193, 4298, 22736, 35036, 2272, 30948, 22758, 8429, 24821, 14581, 18691, 20739, 35078, 22791, 12557, 47373, 45327, 39191, 2333, 47395, 26923, 28985, 6459, 4412, 31037, 16716, 43350, 2395, 8544, 45447, 43400, 49553, 31121, 29075, 18840, 49571, 43432, 39336, 45486, 27061, 31170, 35266, 33225, 459, 18892, 31188, 33240, 8665, 2523, 12772, 8678, 14826, 25072, 37362, 29175, 20984, 49657, 47610, 39424, 27153, 10775, 49697, 35361, 21028, 39462, 2603, 39468, 35374, 49712, 10810, 574, 12866, 41555, 596, 31327, 2663, 14969, 33410, 21123, 29316, 31362, 47746, 6788, 19081, 39563, 29328, 25238, 39577, 43674, 10906, 27293, 47780, 15015, 47784, 2732, 19123, 19132, 37567, 45760, 47807, 19152, 19167, 4834, 49905, 4852, 2805, 33533, 2820, 23301, 45830, 35593, 17167, 13072, 31511, 6948, 6974, 2879, 21312, 19269, 45898, 35663, 9063, 43889, 39802, 4995, 43916, 909, 35726, 19342, 27536, 23454, 29598, 45985, 21414, 48044, 19379, 25524, 46012, 7108, 21444, 19398, 9160, 7112, 21451, 31692, 31695, 48081, 19413, 33760, 31714, 25577, 21483, 48107, 48125, 48127, 15367, 33802, 33815, 35864, 27674, 44059, 25629, 46111, 48164, 46120, 27692, 44083, 46138, 1087, 33861, 31814, 37959, 11345, 11352, 25717, 48247, 48249, 25725, 48253, 25728, 5251, 21646, 7310, 29850, 25760, 21664, 29868, 44213, 29882, 48316, 40136, 31950, 40147, 21716, 23766, 27864, 7387, 1250, 40169, 34030, 19696, 17654, 15607, 23799, 48379, 42245, 42247, 23818, 27919, 7443, 17696, 44333, 13616, 27955, 3380, 32051, 9527, 48440, 21823, 17729, 21830, 48457, 48459, 5452, 3419, 48475, 42333, 21862, 5487, 42359, 34171, 28037, 1416, 21905, 11665, 17813, 13720, 46498, 28066, 46499, 30123, 38315, 9645, 48569, 3518, 9664, 21953, 9669, 3529, 21972, 9693, 19937, 42477, 21998, 34295, 32265, 42506, 19979, 38412, 7693, 9747, 3614, 3624, 36405, 30262, 48698, 26170, 48700, 38460, 24127, 42574, 1617, 3670, 5730, 40547, 34404, 5732, 42607, 1649, 46710, 38523, 18045, 5787, 40609, 16049, 1720, 30398, 9922, 26306, 38599, 42699, 26316, 9935, 18132, 34523, 48871, 1771, 46829, 16121, 20227, 46854, 24328, 48905, 26381, 16147, 28436, 10016, 38689, 16161, 48936, 30508, 12092, 1853, 30533, 42826, 40778, 44880, 44882, 12115, 1877, 46937, 46938, 18266, 24412, 34657, 8045, 24438, 26487, 34681, 16259, 24456, 18312, 12175, 32691, 10171, 4029, 38850, 42957, 32728, 20466, 24563, 47091, 38901, 6143]\n",
      "\n",
      " the other 4161 are actually cleans...\n"
     ]
    }
   ],
   "source": [
    "manip_idx_arr = np.array(manip_idx)\n",
    "# How many true positives hit:\n",
    "set1 = set(detected_indices.tolist())\n",
    "set2 = set(manip_idx_arr.tolist())\n",
    "\n",
    "common_elements = set1.intersection(set2)\n",
    "common_tensor = torch.tensor(list(common_elements))\n",
    "\n",
    "print(f\" The algorithm returns {len(set1)} poisons...\\n\")\n",
    "print(f\" among them {len(common_tensor)} are true poisons (there're {len(manip_idx)} poisons in total -> [{(len(common_tensor)/(len(manip_idx)/100)):.2f}%] detected) \\n\\n their indices: {common_tensor.tolist()}\\n\")\n",
    "print(f\" the other {len(set1) - len(common_tensor)} are actually cleans...\")"
   ]
  },
  {
   "cell_type": "code",
   "execution_count": 10,
   "metadata": {},
   "outputs": [],
   "source": [
    "# save the detected indices\n",
    "detected_save_dir = f'{repo_dir}/notebooks/{attack_method}/{dataset_name}/{exp}/detected/freq_detected_indices.npy'\n",
    "np.save(detected_save_dir, detected_indices)"
   ]
  }
 ],
 "metadata": {
  "kernelspec": {
   "display_name": "display-influence",
   "language": "python",
   "name": "influence"
  }
 },
 "nbformat": 4,
 "nbformat_minor": 2
}
