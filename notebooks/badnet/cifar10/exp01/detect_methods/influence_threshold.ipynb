{
 "cells": [
  {
   "cell_type": "markdown",
   "metadata": {},
   "source": [
    "### Preparation"
   ]
  },
  {
   "cell_type": "code",
   "execution_count": 1,
   "metadata": {},
   "outputs": [],
   "source": [
    "import os\n",
    "import numpy as np\n",
    "import pickle\n",
    "import sys\n",
    "import torch\n",
    "import torchvision\n",
    "from torchvision.models.resnet import BasicBlock, Bottleneck\n",
    "from torch.utils.data import DataLoader, TensorDataset\n",
    "import torchvision.datasets as datasets\n",
    "import torchvision.transforms as transforms\n",
    "from torch.utils.data import Subset\n",
    "import matplotlib.pyplot as plt\n",
    "\n",
    "\"\"\"\n",
    "replace the below with your setup\n",
    "\"\"\"\n",
    "exp = 'exp01'\n",
    "dataset_name = \"cifar10\"\n",
    "attack_method = \"badnet\"\n",
    "user_name = \"xxx\"\n",
    "repo_dir = f\"/data/{user_name}/github/poisoning-gradient-matching/open_source_delta_influence\" \n",
    "victim_class = 8\n",
    "attack_target = 5\n",
    "num_classes = 10\n",
    "cifar10_labels = { 0: \"airplane\", 1: \"automobile\", 2: \"bird\", 3: \"cat\", 4: \"deer\", 5: \"dog\", 6: \"frog\", 7: \"horse\", 8: \"ship\", 9: \"truck\" }\n",
    "clean_data_dir = f\"{repo_dir}/clean_data/cifar10\"\n",
    "normalize = transforms.Normalize(mean=[0.49147, 0.48226, 0.44677], std=[0.24703, 0.24349, 0.26159])\n",
    "\n",
    "os.environ['PYTORCH_CUDA_ALLOC_CONF'] = 'max_split_size_mb:32'"
   ]
  },
  {
   "cell_type": "code",
   "execution_count": 2,
   "metadata": {},
   "outputs": [],
   "source": [
    "os.chdir(repo_dir)\n",
    "print(os.getcwd())\n",
    "if os.getcwd() not in sys.path:\n",
    "    sys.path.insert(0, os.getcwd())\n",
    "import forest\n",
    "print(forest.__file__)"
   ]
  },
  {
   "cell_type": "code",
   "execution_count": 3,
   "metadata": {},
   "outputs": [
    {
     "data": {
      "text/plain": [
       "(500,)"
      ]
     },
     "execution_count": 3,
     "metadata": {},
     "output_type": "execute_result"
    }
   ],
   "source": [
    "manip_idx = np.load(f'{repo_dir}/notebooks/{attack_method}/{dataset_name}/{exp}/poison_info/manip_idx.npy')\n",
    "manip_idx.shape"
   ]
  },
  {
   "cell_type": "markdown",
   "metadata": {},
   "source": [
    "### Load Pretrained Model (Victim)"
   ]
  },
  {
   "cell_type": "code",
   "execution_count": 4,
   "metadata": {},
   "outputs": [],
   "source": [
    "##### THE PART WE NEED TO MODIFY ####\n",
    "net = ['ResNet18']\n",
    "dataset = 'CIFAR10'\n",
    "#####################################\n",
    "recipe = 'gradient-matching'\n",
    "threatmodel = 'single-class'\n",
    "poisonkey = None\n",
    "modelkey = None\n",
    "eps = 16\n",
    "budget = 0.01\n",
    "targets = 1\n",
    "name = ''\n",
    "table_path = 'tables/'\n",
    "poison_path = 'poisons/'\n",
    "data_path = '~/data'\n",
    "attackoptim = 'signAdam'\n",
    "attackiter = 250\n",
    "init = 'randn'\n",
    "tau = 0.1\n",
    "target_criterion = 'cross-entropy'\n",
    "restarts = 8\n",
    "pbatch = 512\n",
    "data_aug = 'default'\n",
    "adversarial = 0\n",
    "ensemble = 1\n",
    "max_epoch = None\n",
    "ablation = 1.0\n",
    "loss = 'similarity'\n",
    "centreg = 0\n",
    "normreg = 0\n",
    "repel = 0\n",
    "nadapt = 2\n",
    "vruns = 1\n",
    "vnet = None\n",
    "optimization = 'conservative'\n",
    "epochs = None\n",
    "gradient_noise = None\n",
    "gradient_clip = None\n",
    "lmdb_path = None\n",
    "benchmark = ''\n",
    "benchmark_idx = 0\n",
    "save = None\n",
    "local_rank = None\n",
    "pretrained = False\n",
    "noaugment = True\n",
    "class args_specify:\n",
    "  def __init__(\n",
    "        self,\n",
    "        net,\n",
    "        dataset,\n",
    "        recipe,\n",
    "        threatmodel,\n",
    "        poisonkey,\n",
    "        modelkey,\n",
    "        eps,\n",
    "        budget,\n",
    "        targets,\n",
    "        name,\n",
    "        table_path,\n",
    "        poison_path,\n",
    "        data_path,\n",
    "        attackoptim,\n",
    "        attackiter,\n",
    "        init,\n",
    "        tau,\n",
    "        target_criterion,\n",
    "        restarts,\n",
    "        pbatch,\n",
    "        data_aug,\n",
    "        adversarial,\n",
    "        ensemble,\n",
    "        max_epoch,\n",
    "        ablation,\n",
    "        loss,\n",
    "        centreg,\n",
    "        normreg,\n",
    "        repel,\n",
    "        nadapt,\n",
    "        vruns,\n",
    "        vnet,\n",
    "        optimization,\n",
    "        epochs,\n",
    "        gradient_noise,\n",
    "        gradient_clip,\n",
    "        lmdb_path,\n",
    "        benchmark,\n",
    "        benchmark_idx,\n",
    "        save,\n",
    "        local_rank,\n",
    "        pretrained,\n",
    "        noaugment,\n",
    "            ):\n",
    "        self.net = net\n",
    "        self.dataset = dataset\n",
    "        self.recipe = recipe\n",
    "        self.threatmodel = threatmodel\n",
    "        self.poisonkey = poisonkey\n",
    "        self.modelkey = modelkey\n",
    "        self.eps = eps\n",
    "        self.budget = budget\n",
    "        self.targets = targets\n",
    "        self.name = name\n",
    "        self.table_path = table_path\n",
    "        self.poison_path = poison_path\n",
    "        self.data_path =data_path\n",
    "        self.attackoptim = attackoptim\n",
    "        self.attackiter = attackiter\n",
    "        self.init = init\n",
    "        self.tau = tau\n",
    "        self.target_criterion = target_criterion\n",
    "        self.restarts = restarts\n",
    "        self.pbatch = pbatch\n",
    "        self.data_aug = data_aug\n",
    "        self.adversarial = adversarial\n",
    "        self.ensemble = ensemble\n",
    "        self.max_epoch = max_epoch\n",
    "        self.ablation = ablation\n",
    "        self.loss = loss\n",
    "        self.centreg = centreg\n",
    "        self.normreg = normreg\n",
    "        self.repel = repel\n",
    "        self.nadapt = nadapt\n",
    "        self.vruns = vruns\n",
    "        self.vnet = vnet\n",
    "        self.optimization = optimization\n",
    "        self.epochs = epochs\n",
    "        self.gradient_noise = gradient_noise\n",
    "        self.gradient_clip = gradient_clip\n",
    "        self.lmdb_path = lmdb_path\n",
    "        self.benchmark = benchmark\n",
    "        self.benchmark_idx = benchmark_idx\n",
    "        self.save = save\n",
    "        self.local_rank = local_rank\n",
    "        self.pretrained = pretrained\n",
    "        self.noaugment = noaugment\n",
    "\n",
    "args = args_specify(\n",
    "    net,\n",
    "    dataset,\n",
    "    recipe,\n",
    "    threatmodel,\n",
    "    poisonkey,\n",
    "    modelkey,\n",
    "    eps,\n",
    "    budget,\n",
    "    targets,\n",
    "    name,\n",
    "    table_path,\n",
    "    poison_path,\n",
    "    data_path,\n",
    "    attackoptim,\n",
    "    attackiter,\n",
    "    init,\n",
    "    tau,\n",
    "    target_criterion,\n",
    "    restarts,\n",
    "    pbatch,\n",
    "    data_aug,\n",
    "    adversarial,\n",
    "    ensemble,\n",
    "    max_epoch,\n",
    "    ablation,\n",
    "    loss,\n",
    "    centreg,\n",
    "    normreg,\n",
    "    repel,\n",
    "    nadapt,\n",
    "    vruns,\n",
    "    vnet,\n",
    "    optimization,\n",
    "    epochs,\n",
    "    gradient_noise,\n",
    "    gradient_clip,\n",
    "    lmdb_path,\n",
    "    benchmark,\n",
    "    benchmark_idx,\n",
    "    save,\n",
    "    local_rank,\n",
    "    pretrained,\n",
    "    noaugment\n",
    ")\n",
    "\n",
    "setup = forest.utils.system_startup(args)\n",
    "model_wrapped = forest.Victim(args, setup=setup)\n",
    "victim_model_path = f'{repo_dir}/notebooks/{attack_method}/{dataset_name}/{exp}/models/victim.pth'\n",
    "victim_model = model_wrapped.load_model(victim_model_path) \n",
    "device = torch.device('cuda' if torch.cuda.is_available() else 'cpu')\n",
    "victim_model = victim_model.to(device)  \n",
    "\n",
    "check_paths={}\n",
    "check_paths['victim_model_path'] = victim_model_path\n",
    "for key, value in check_paths.items():\n",
    "    print(f\"{key}: {value}\")"
   ]
  },
  {
   "cell_type": "markdown",
   "metadata": {},
   "source": [
    "### Evaluate ACC"
   ]
  },
  {
   "cell_type": "code",
   "execution_count": 5,
   "metadata": {},
   "outputs": [
    {
     "name": "stderr",
     "output_type": "stream",
     "text": [
      "/tmp/ipykernel_669136/2343231417.py:23: UserWarning: To copy construct from a tensor, it is recommended to use sourceTensor.clone().detach() or sourceTensor.clone().detach().requires_grad_(True), rather than torch.tensor(sourceTensor).\n",
      "  train_lbl_tensors = torch.tensor(patched_labels_tensor)\n"
     ]
    },
    {
     "name": "stdout",
     "output_type": "stream",
     "text": [
      "train acc: 98.038%\n"
     ]
    }
   ],
   "source": [
    "batch_size = args.pbatch\n",
    "\n",
    "poison_data_path = f'{repo_dir}/notebooks/{attack_method}/{dataset_name}/{exp}/data'\n",
    "\n",
    "patched_images_tensor = torch.load(os.path.join(poison_data_path, 'patched_images.pt'))\n",
    "patched_labels_tensor = torch.load(os.path.join(poison_data_path, 'patched_labels.pt'))\n",
    "\n",
    "def calculate_accuracy(model, data_loader):\n",
    "    model.eval()\n",
    "    correct = 0\n",
    "    total = 0\n",
    "    with torch.inference_mode():\n",
    "        for images, labels in data_loader:\n",
    "            images, labels = images.to(device), labels.to(device)\n",
    "            outputs = model(images)\n",
    "            _, predicted = torch.max(outputs.data, 1)\n",
    "            total += labels.size(0)\n",
    "            correct += (predicted == labels).sum().item()\n",
    "    return 100 * correct / total\n",
    "\n",
    "normalized_train_imgs = [normalize(img) for img in patched_images_tensor]\n",
    "train_img_tensors = torch.stack(normalized_train_imgs)  \n",
    "train_lbl_tensors = torch.tensor(patched_labels_tensor) \n",
    "tensor_dataset = TensorDataset(train_img_tensors, train_lbl_tensors)\n",
    "poisoned_normed_trainloader = torch.utils.data.DataLoader(tensor_dataset, batch_size=1024, shuffle=False)\n",
    "normed_train_acc = calculate_accuracy(victim_model, poisoned_normed_trainloader) \n",
    "print(f\"train acc: {normed_train_acc}%\")\n",
    "\n",
    "poisoned_trainset = tensor_dataset\n",
    "poisoned_trainloader = torch.utils.data.DataLoader(poisoned_trainset, batch_size=1024, shuffle=False)"
   ]
  },
  {
   "cell_type": "code",
   "execution_count": 6,
   "metadata": {},
   "outputs": [
    {
     "name": "stdout",
     "output_type": "stream",
     "text": [
      "Files already downloaded and verified\n"
     ]
    },
    {
     "data": {
      "text/plain": [
       "1000"
      ]
     },
     "execution_count": 6,
     "metadata": {},
     "output_type": "execute_result"
    }
   ],
   "source": [
    "np.random.seed(3047)\n",
    "num_test_affected = 1  # assume we identified one affected test images\n",
    "\n",
    "clean_cifar10_data_path = clean_data_dir\n",
    "transform_test = transforms.Compose([transforms.ToTensor(),])\n",
    "clean_testset = torchvision.datasets.CIFAR10(root=clean_cifar10_data_path, train=False, download=True, transform=transform_test)\n",
    "images = []\n",
    "labels = []\n",
    "\n",
    "for i in range(len(clean_testset)):\n",
    "    image, label = clean_testset[i]\n",
    "    images.append(image)\n",
    "    labels.append(label)\n",
    "\n",
    "images = torch.stack(images)\n",
    "labels = torch.tensor(labels)\n",
    "\n",
    "# Get all images from victim_class\n",
    "class_vc_indices = [i for i, label in enumerate(labels) if label == victim_class]\n",
    "len(class_vc_indices)"
   ]
  },
  {
   "cell_type": "code",
   "execution_count": 7,
   "metadata": {},
   "outputs": [
    {
     "data": {
      "image/png": "[encoded data removed]",
      "text/plain": [
       "<Figure size 640x480 with 1 Axes>"
      ]
     },
     "metadata": {},
     "output_type": "display_data"
    }
   ],
   "source": [
    "def add_bottom_right_trigger(img):\n",
    "    img_np = np.array(img)\n",
    "    assert img_np.shape == (3, 32, 32)\n",
    "    # Add the trigger to the bottom-right corner\n",
    "    trigger_value = 0\n",
    "    img_np[:, -4, -2] = trigger_value \n",
    "    img_np[:, -2, -2] = trigger_value \n",
    "    img_np[:, -3, -3] = trigger_value \n",
    "    img_np[:, -2, -4] = trigger_value \n",
    "\n",
    "    return torch.as_tensor(img_np)\n",
    "    \n",
    "modified_imgs = []\n",
    "modified_lbls = []\n",
    "for i in class_vc_indices:\n",
    "    img, label = clean_testset[i]\n",
    "    pimg = add_bottom_right_trigger(img)\n",
    "    modified_imgs.append(pimg) \n",
    "    modified_lbls.append(attack_target) \n",
    "\n",
    "# Show an example of an image with the trigger\n",
    "show_pimg = modified_imgs[0]\n",
    "show_plabel = modified_lbls[0]\n",
    "plt.imshow(show_pimg.permute(1, 2, 0)) \n",
    "plt.title(f\"[original] label: {label} ('{cifar10_labels[label]}') \\n [poisoned] label: {show_plabel} ('{cifar10_labels[show_plabel]}')\")\n",
    "plt.show()"
   ]
  },
  {
   "cell_type": "code",
   "execution_count": 8,
   "metadata": {},
   "outputs": [
    {
     "name": "stdout",
     "output_type": "stream",
     "text": [
      "(only for the victim class) adv acc: 99.7%\n",
      "we need to select 1 affected images which are successfully attacked\n"
     ]
    }
   ],
   "source": [
    "normalize = transforms.Normalize(mean=[0.49147, 0.48226, 0.44677], std=[0.24703, 0.24349, 0.26159])\n",
    "normalized_imgs = [normalize(img) for img in modified_imgs]\n",
    "img_tensors = torch.stack(normalized_imgs)  \n",
    "lbl_tensors = torch.tensor(modified_lbls) \n",
    "\n",
    "only_vc_ptest_dataset = TensorDataset(img_tensors, lbl_tensors) # tensor_dataset\n",
    "victim_class_testloader = torch.utils.data.DataLoader(only_vc_ptest_dataset, batch_size=1, shuffle=False)\n",
    "len(only_vc_ptest_dataset)\n",
    "\n",
    "# adv acc (the one victim class, with manipulation and modified label)\n",
    "adv_acc = calculate_accuracy(victim_model, victim_class_testloader)\n",
    "print(f\"(only for the victim class) adv acc: {adv_acc}%\")\n",
    "# print(f\"we need to select {num_test_affected} affected images which are successfully attacked\")"
   ]
  },
  {
   "cell_type": "code",
   "execution_count": 9,
   "metadata": {},
   "outputs": [
    {
     "data": {
      "text/plain": [
       "torch.Size([1, 50000])"
      ]
     },
     "execution_count": 9,
     "metadata": {},
     "output_type": "execute_result"
    }
   ],
   "source": [
    "old_scores_save_dir = f'{repo_dir}/notebooks/{attack_method}/{dataset_name}/{exp}/scores/old_scores.npy'\n",
    "\n",
    "# load calculated scores\n",
    "old_scores = np.load(old_scores_save_dir)\n",
    "old_scores_ts = torch.tensor(old_scores)\n",
    "old_scores_ts.shape"
   ]
  },
  {
   "cell_type": "code",
   "execution_count": 10,
   "metadata": {},
   "outputs": [],
   "source": [
    "manip_idx_arr = manip_idx\n",
    "old_scores_matrix = old_scores_ts.squeeze().numpy()"
   ]
  },
  {
   "cell_type": "code",
   "execution_count": 11,
   "metadata": {},
   "outputs": [
    {
     "name": "stdout",
     "output_type": "stream",
     "text": [
      " The algorithm returns 13681 poisons...\n",
      "\n",
      " among them 481 are true poisons (there're 500 poisons in total -> [96.20%] detected) \n",
      "\n",
      " their indices: [40963, 34825, 14348, 38927, 6160, 2065, 8214, 40983, 10268, 49182, 49195, 8250, 4159, 49220, 47179, 6219, 10317, 8278, 30807, 14427, 34910, 26720, 43119, 18546, 20594, 10354, 10361, 20604, 43136, 37002, 30860, 41112, 14497, 2212, 49321, 24748, 10416, 22712, 47291, 6143, 4287, 8384, 12481, 39106, 193, 12490, 4298, 22736, 37072, 2272, 20705, 49378, 30948, 22758, 8429, 24821, 14581, 2298, 41218, 18691, 20739, 35078, 22791, 12557, 47373, 45327, 39191, 39193, 2333, 47395, 26923, 28985, 6459, 4412, 31037, 16716, 43350, 10585, 2395, 31069, 8544, 353, 35177, 29055, 45447, 43400, 10639, 49553, 31121, 29075, 18840, 31131, 41373, 49571, 39335, 43432, 39336, 45486, 27061, 31170, 35266, 459, 18892, 465, 31188, 33240, 8665, 2523, 12772, 14821, 8678, 14826, 25072, 37362, 29175, 20984, 49657, 47610, 2558, 39424, 21005, 27153, 39442, 10775, 49697, 21028, 41509, 39462, 39468, 35374, 49712, 45617, 10810, 574, 12866, 585, 41555, 596, 31327, 2663, 14969, 31354, 33410, 21123, 29316, 31362, 47746, 6788, 19081, 39563, 29328, 25238, 43674, 10906, 27293, 47780, 15015, 47784, 39593, 17066, 2732, 47793, 37555, 19123, 39605, 37567, 45760, 47807, 47822, 10965, 4823, 19167, 4834, 25320, 23272, 49905, 4852, 2805, 33533, 4863, 6912, 2820, 23301, 45830, 35593, 17167, 13072, 31511, 15135, 41761, 6948, 2857, 27436, 6974, 2879, 21312, 19269, 45898, 35663, 2914, 9063, 19309, 43889, 2934, 4995, 41867, 43916, 909, 35726, 19342, 27536, 23454, 29598, 45985, 21414, 48044, 19379, 25524, 46012, 7108, 21444, 19398, 9160, 7112, 21451, 31692, 31695, 48081, 19413, 5078, 41950, 33760, 31714, 25577, 21483, 48107, 48125, 48127, 15367, 19464, 33802, 23573, 33815, 35864, 27674, 25629, 46111, 39971, 48164, 46120, 27692, 44083, 46138, 1087, 33861, 31814, 37959, 35911, 11345, 11352, 38002, 25717, 48247, 48249, 25725, 48253, 25728, 15490, 5251, 25737, 23693, 21646, 7310, 15504, 29850, 25760, 21664, 5283, 21667, 31915, 29868, 44213, 29882, 48316, 40136, 9426, 40147, 21716, 23766, 27864, 7387, 1250, 40169, 31981, 34030, 19696, 17654, 15607, 23799, 48379, 21762, 42245, 42247, 23818, 27919, 9490, 13587, 7443, 5416, 44333, 13616, 27955, 3380, 32051, 9527, 48440, 21823, 17729, 21830, 48457, 5452, 3406, 3419, 48475, 42333, 17758, 21862, 28012, 5487, 42359, 34171, 9599, 38274, 28037, 1416, 23946, 3468, 46479, 21905, 11665, 17813, 13720, 46498, 28066, 46499, 46505, 13738, 30123, 38315, 9645, 9648, 26038, 48569, 3518, 9664, 21953, 9669, 3529, 21972, 9693, 19937, 42477, 21998, 13808, 32265, 42506, 19979, 38412, 7693, 9747, 44570, 3614, 3624, 36405, 30262, 48698, 26170, 48700, 38460, 24127, 44615, 32331, 42574, 1617, 3670, 5730, 40547, 34404, 5732, 42607, 1649, 7794, 9844, 46710, 38523, 18045, 44672, 3720, 5787, 40609, 28323, 34468, 16049, 1720, 30398, 32448, 9922, 26306, 7876, 38599, 36553, 11977, 42699, 26316, 9935, 32465, 18132, 34522, 34523, 48871, 18153, 1771, 46829, 16121, 22268, 20227, 46854, 24328, 48905, 26381, 16147, 28436, 44822, 10016, 38689, 16161, 48936, 30508, 12092, 1853, 30533, 42826, 40778, 44882, 12115, 1877, 8022, 46937, 46938, 18266, 24412, 34657, 8045, 24438, 10103, 26487, 34681, 16259, 24456, 18312, 3978, 20360, 12175, 47000, 4003, 32676, 32691, 14260, 10171, 4029, 38850, 38857, 42957, 32728, 26590, 24554, 20466, 24563, 47091, 38901, 26623]\n",
      "\n",
      " the other 13200 are actually cleans...\n"
     ]
    }
   ],
   "source": [
    "th = 10               \n",
    "\n",
    "all_indices = np.arange(0, 50000).tolist()\n",
    "boosted_change_scores_matrix = old_scores_matrix.squeeze()\n",
    "# Map the values into boolean (True if larger than th)\n",
    "boolean_matrix = boosted_change_scores_matrix > th    \n",
    "\n",
    "detected = torch.as_tensor(boolean_matrix)\n",
    "temp_index = np.where(detected)[0]\n",
    "all_indices_np = np.array(all_indices)\n",
    "detected_idx = all_indices_np[temp_index]\n",
    "\n",
    "# How many true positives hit:\n",
    "set1 = set(detected_idx.tolist())\n",
    "set2 = set(manip_idx_arr.tolist())\n",
    "\n",
    "common_elements = set1.intersection(set2)\n",
    "common_tensor = torch.tensor(list(common_elements))\n",
    "\n",
    "print(f\" The algorithm returns {torch.sum(detected)} poisons...\\n\")\n",
    "print(f\" among them {len(common_tensor)} are true poisons (there're {len(manip_idx)} poisons in total -> [{(len(common_tensor)/(len(manip_idx)/100)):.2f}%] detected) \\n\\n their indices: {common_tensor.tolist()}\\n\")\n",
    "print(f\" the other {torch.sum(detected) - len(common_tensor)} are actually cleans...\")"
   ]
  },
  {
   "cell_type": "code",
   "execution_count": 12,
   "metadata": {},
   "outputs": [],
   "source": [
    "detected_idx_ts = torch.tensor(detected_idx)\n",
    "print(len(detected_idx_ts))\n",
    "# save the detected indices\n",
    "detected_save_dir = f'{repo_dir}/notebooks/{attack_method}/{dataset_name}/{exp}/detected/inf_TH_MM_detected_indices.npy'\n",
    "print(f\"detected_save_dir: {detected_save_dir}\")\n",
    "np.save(detected_save_dir, detected_idx_ts)"
   ]
  },
  {
   "cell_type": "code",
   "execution_count": 13,
   "metadata": {},
   "outputs": [],
   "source": [
    "torch.cuda.empty_cache()"
   ]
  }
 ],
 "metadata": {
  "kernelspec": {
   "display_name": "display-influence",
   "language": "python",
   "name": "influence"
  }
 },
 "nbformat": 4,
 "nbformat_minor": 2
}
