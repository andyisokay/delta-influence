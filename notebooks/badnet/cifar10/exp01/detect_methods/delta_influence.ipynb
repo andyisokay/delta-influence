{
 "cells": [
  {
   "cell_type": "markdown",
   "metadata": {},
   "source": [
    "### Preparation"
   ]
  },
  {
   "cell_type": "code",
   "execution_count": 1,
   "metadata": {},
   "outputs": [],
   "source": [
    "import os\n",
    "import numpy as np\n",
    "import pickle\n",
    "import sys\n",
    "import torch\n",
    "import torchvision\n",
    "from torchvision.models.resnet import BasicBlock, Bottleneck\n",
    "from torch.utils.data import DataLoader, TensorDataset\n",
    "from torch.utils.data import Subset\n",
    "import torchvision.datasets as datasets\n",
    "import torchvision.transforms as transforms\n",
    "from torchvision import transforms\n",
    "import matplotlib.pyplot as plt\n",
    "from PIL import Image\n",
    "import random\n",
    "\n",
    "# !pip install kronfluence\n",
    "from kronfluence.analyzer import Analyzer, prepare_model\n",
    "from kronfluence.arguments import FactorArguments\n",
    "from kronfluence.task import Task\n",
    "from typing import Tuple\n",
    "\n",
    "from torch.utils.data import Dataset\n",
    "\n",
    "\"\"\"\n",
    "replace the below with your setup\n",
    "\"\"\"\n",
    "exp = 'exp01'\n",
    "dataset_name = \"cifar10\"\n",
    "attack_method = \"badnet\"\n",
    "user_name = \"xxx\"\n",
    "repo_dir = f\"/data/{user_name}/github/poisoning-gradient-matching/open_source_delta_influence\" \n",
    "victim_class = 8\n",
    "attack_target = 5\n",
    "num_classes = 10\n",
    "n_boosting = 50  # how many transformations we apply to the affected test point\n",
    "clean_data_dir = f\"{repo_dir}/clean_data/cifar10\"\n",
    "normalize = transforms.Normalize(mean=[0.49147, 0.48226, 0.44677], std=[0.24703, 0.24349, 0.26159])\n",
    "\n",
    "os.environ['PYTORCH_CUDA_ALLOC_CONF'] = 'max_split_size_mb:32'\n",
    "cifar10_labels = { 0: \"airplane\", 1: \"automobile\", 2: \"bird\", 3: \"cat\", 4: \"deer\", 5: \"dog\", 6: \"frog\", 7: \"horse\", 8: \"ship\", 9: \"truck\" }"
   ]
  },
  {
   "cell_type": "code",
   "execution_count": 2,
   "metadata": {},
   "outputs": [],
   "source": [
    "os.chdir(repo_dir)\n",
    "print(os.getcwd())\n",
    "if os.getcwd() not in sys.path:\n",
    "    sys.path.insert(0, os.getcwd())\n",
    "import forest\n",
    "print(forest.__file__)"
   ]
  },
  {
   "cell_type": "code",
   "execution_count": 3,
   "metadata": {},
   "outputs": [
    {
     "data": {
      "text/plain": [
       "(500,)"
      ]
     },
     "execution_count": 3,
     "metadata": {},
     "output_type": "execute_result"
    }
   ],
   "source": [
    "manip_idx = np.load(f'{repo_dir}/notebooks/{attack_method}/{dataset_name}/{exp}/poison_info/manip_idx.npy')\n",
    "manip_idx.shape"
   ]
  },
  {
   "cell_type": "markdown",
   "metadata": {},
   "source": [
    "### Load Pretrained Model (Victim)"
   ]
  },
  {
   "cell_type": "code",
   "execution_count": 4,
   "metadata": {},
   "outputs": [],
   "source": [
    "##### THE PART WE NEED TO MODIFY ####\n",
    "net = ['ResNet18']\n",
    "dataset = 'CIFAR10'\n",
    "#####################################\n",
    "recipe = 'gradient-matching'\n",
    "threatmodel = 'single-class'\n",
    "poisonkey = None\n",
    "modelkey = None\n",
    "eps = 16\n",
    "budget = 0.01\n",
    "targets = 1\n",
    "name = ''\n",
    "table_path = 'tables/'\n",
    "poison_path = 'poisons/'\n",
    "data_path = '~/data'\n",
    "attackoptim = 'signAdam'\n",
    "attackiter = 250\n",
    "init = 'randn'\n",
    "tau = 0.1\n",
    "target_criterion = 'cross-entropy'\n",
    "restarts = 8\n",
    "pbatch = 512\n",
    "data_aug = 'default'\n",
    "adversarial = 0\n",
    "ensemble = 1\n",
    "max_epoch = None\n",
    "ablation = 1.0\n",
    "loss = 'similarity'\n",
    "centreg = 0\n",
    "normreg = 0\n",
    "repel = 0\n",
    "nadapt = 2\n",
    "vruns = 1\n",
    "vnet = None\n",
    "optimization = 'conservative'\n",
    "epochs = None\n",
    "gradient_noise = None\n",
    "gradient_clip = None\n",
    "lmdb_path = None\n",
    "benchmark = ''\n",
    "benchmark_idx = 0\n",
    "save = None\n",
    "local_rank = None\n",
    "pretrained = False\n",
    "noaugment = True\n",
    "class args_specify:\n",
    "  def __init__(\n",
    "        self,\n",
    "        net,\n",
    "        dataset,\n",
    "        recipe,\n",
    "        threatmodel,\n",
    "        poisonkey,\n",
    "        modelkey,\n",
    "        eps,\n",
    "        budget,\n",
    "        targets,\n",
    "        name,\n",
    "        table_path,\n",
    "        poison_path,\n",
    "        data_path,\n",
    "        attackoptim,\n",
    "        attackiter,\n",
    "        init,\n",
    "        tau,\n",
    "        target_criterion,\n",
    "        restarts,\n",
    "        pbatch,\n",
    "        data_aug,\n",
    "        adversarial,\n",
    "        ensemble,\n",
    "        max_epoch,\n",
    "        ablation,\n",
    "        loss,\n",
    "        centreg,\n",
    "        normreg,\n",
    "        repel,\n",
    "        nadapt,\n",
    "        vruns,\n",
    "        vnet,\n",
    "        optimization,\n",
    "        epochs,\n",
    "        gradient_noise,\n",
    "        gradient_clip,\n",
    "        lmdb_path,\n",
    "        benchmark,\n",
    "        benchmark_idx,\n",
    "        save,\n",
    "        local_rank,\n",
    "        pretrained,\n",
    "        noaugment,\n",
    "            ):\n",
    "        self.net = net\n",
    "        self.dataset = dataset\n",
    "        self.recipe = recipe\n",
    "        self.threatmodel = threatmodel\n",
    "        self.poisonkey = poisonkey\n",
    "        self.modelkey = modelkey\n",
    "        self.eps = eps\n",
    "        self.budget = budget\n",
    "        self.targets = targets\n",
    "        self.name = name\n",
    "        self.table_path = table_path\n",
    "        self.poison_path = poison_path\n",
    "        self.data_path =data_path\n",
    "        self.attackoptim = attackoptim\n",
    "        self.attackiter = attackiter\n",
    "        self.init = init\n",
    "        self.tau = tau\n",
    "        self.target_criterion = target_criterion\n",
    "        self.restarts = restarts\n",
    "        self.pbatch = pbatch\n",
    "        self.data_aug = data_aug\n",
    "        self.adversarial = adversarial\n",
    "        self.ensemble = ensemble\n",
    "        self.max_epoch = max_epoch\n",
    "        self.ablation = ablation\n",
    "        self.loss = loss\n",
    "        self.centreg = centreg\n",
    "        self.normreg = normreg\n",
    "        self.repel = repel\n",
    "        self.nadapt = nadapt\n",
    "        self.vruns = vruns\n",
    "        self.vnet = vnet\n",
    "        self.optimization = optimization\n",
    "        self.epochs = epochs\n",
    "        self.gradient_noise = gradient_noise\n",
    "        self.gradient_clip = gradient_clip\n",
    "        self.lmdb_path = lmdb_path\n",
    "        self.benchmark = benchmark\n",
    "        self.benchmark_idx = benchmark_idx\n",
    "        self.save = save\n",
    "        self.local_rank = local_rank\n",
    "        self.pretrained = pretrained\n",
    "        self.noaugment = noaugment\n",
    "\n",
    "args = args_specify(\n",
    "    net,\n",
    "    dataset,\n",
    "    recipe,\n",
    "    threatmodel,\n",
    "    poisonkey,\n",
    "    modelkey,\n",
    "    eps,\n",
    "    budget,\n",
    "    targets,\n",
    "    name,\n",
    "    table_path,\n",
    "    poison_path,\n",
    "    data_path,\n",
    "    attackoptim,\n",
    "    attackiter,\n",
    "    init,\n",
    "    tau,\n",
    "    target_criterion,\n",
    "    restarts,\n",
    "    pbatch,\n",
    "    data_aug,\n",
    "    adversarial,\n",
    "    ensemble,\n",
    "    max_epoch,\n",
    "    ablation,\n",
    "    loss,\n",
    "    centreg,\n",
    "    normreg,\n",
    "    repel,\n",
    "    nadapt,\n",
    "    vruns,\n",
    "    vnet,\n",
    "    optimization,\n",
    "    epochs,\n",
    "    gradient_noise,\n",
    "    gradient_clip,\n",
    "    lmdb_path,\n",
    "    benchmark,\n",
    "    benchmark_idx,\n",
    "    save,\n",
    "    local_rank,\n",
    "    pretrained,\n",
    "    noaugment\n",
    ")\n",
    "\n",
    "setup = forest.utils.system_startup(args)\n",
    "model_wrapped = forest.Victim(args, setup=setup)\n",
    "victim_model_path = f'{repo_dir}/notebooks/{attack_method}/{dataset_name}/{exp}/models/victim.pth'\n",
    "victim_model = model_wrapped.load_model(victim_model_path) # saved in brew_poison\n",
    "device = torch.device('cuda' if torch.cuda.is_available() else 'cpu')\n",
    "victim_model = victim_model.to(device)  \n",
    "\n",
    "check_paths={}\n",
    "check_paths['victim_model_path'] = victim_model_path\n",
    "for key, value in check_paths.items():\n",
    "    print(f\"{key}: {value}\")"
   ]
  },
  {
   "cell_type": "markdown",
   "metadata": {},
   "source": [
    "### Evaluate ACC"
   ]
  },
  {
   "cell_type": "code",
   "execution_count": 5,
   "metadata": {},
   "outputs": [
    {
     "name": "stderr",
     "output_type": "stream",
     "text": [
      "/tmp/ipykernel_620624/212445088.py:24: UserWarning: To copy construct from a tensor, it is recommended to use sourceTensor.clone().detach() or sourceTensor.clone().detach().requires_grad_(True), rather than torch.tensor(sourceTensor).\n",
      "  train_lbl_tensors = torch.tensor(patched_labels_tensor)\n"
     ]
    }
   ],
   "source": [
    "batch_size = args.pbatch\n",
    "\n",
    "poison_data_path = f'{repo_dir}/notebooks/{attack_method}/{dataset_name}/{exp}/data'\n",
    "\n",
    "patched_images_tensor = torch.load(os.path.join(poison_data_path, 'patched_images.pt'))\n",
    "patched_labels_tensor = torch.load(os.path.join(poison_data_path, 'patched_labels.pt'))\n",
    "\n",
    "def calculate_accuracy(model, data_loader):\n",
    "    model.eval()\n",
    "    correct = 0\n",
    "    total = 0\n",
    "    with torch.inference_mode():\n",
    "        for images, labels in data_loader:\n",
    "            images, labels = images.to(device), labels.to(device)\n",
    "            outputs = model(images)\n",
    "            _, predicted = torch.max(outputs.data, 1)\n",
    "            total += labels.size(0)\n",
    "            correct += (predicted == labels).sum().item()\n",
    "    return 100 * correct / total\n",
    "\n",
    "normalize = transforms.Normalize(mean=[0.49147, 0.48226, 0.44677], std=[0.24703, 0.24349, 0.26159])\n",
    "normalized_train_imgs = [normalize(img) for img in patched_images_tensor]\n",
    "train_img_tensors = torch.stack(normalized_train_imgs)  \n",
    "train_lbl_tensors = torch.tensor(patched_labels_tensor) \n",
    "tensor_dataset = TensorDataset(train_img_tensors, train_lbl_tensors)\n",
    "poisoned_normed_trainloader = torch.utils.data.DataLoader(tensor_dataset, batch_size=1024, shuffle=False)\n",
    "# normed_train_acc = calculate_accuracy(victim_model, poisoned_normed_trainloader) # use normalized image to calculate influence (since we use them when training)\n",
    "# print(f\"train acc: {normed_train_acc}%\")\n",
    "\n",
    "poisoned_trainset = tensor_dataset\n",
    "poisoned_trainloader = torch.utils.data.DataLoader(poisoned_trainset, batch_size=1024, shuffle=False)"
   ]
  },
  {
   "cell_type": "code",
   "execution_count": 6,
   "metadata": {},
   "outputs": [
    {
     "name": "stdout",
     "output_type": "stream",
     "text": [
      "Files already downloaded and verified\n"
     ]
    },
    {
     "data": {
      "text/plain": [
       "1000"
      ]
     },
     "execution_count": 6,
     "metadata": {},
     "output_type": "execute_result"
    }
   ],
   "source": [
    "# form the deletion set\n",
    "np.random.seed(3047)\n",
    "num_test_affected = 1  # assume we identified one affected test images\n",
    "\n",
    "clean_cifar10_data_path = clean_data_dir\n",
    "transform_test = transforms.Compose([transforms.ToTensor(),])\n",
    "clean_testset = torchvision.datasets.CIFAR10(root=clean_cifar10_data_path, train=False, download=True, transform=transform_test)\n",
    "\n",
    "images = []\n",
    "labels = []\n",
    "\n",
    "for i in range(len(clean_testset)):\n",
    "    image, label = clean_testset[i]\n",
    "    images.append(image)\n",
    "    labels.append(label)\n",
    "\n",
    "images = torch.stack(images)\n",
    "labels = torch.tensor(labels)\n",
    "\n",
    "# Get all images from victim_class\n",
    "class_vc_indices = [i for i, label in enumerate(labels) if label == victim_class]\n",
    "len(class_vc_indices)"
   ]
  },
  {
   "cell_type": "code",
   "execution_count": 7,
   "metadata": {},
   "outputs": [
    {
     "data": {
      "image/png": "[encoded data removed]",
      "text/plain": [
       "<Figure size 640x480 with 1 Axes>"
      ]
     },
     "metadata": {},
     "output_type": "display_data"
    }
   ],
   "source": [
    "def add_bottom_right_trigger(img):\n",
    "    img_np = np.array(img)\n",
    "    assert img_np.shape == (3, 32, 32)\n",
    "    # Add the trigger to the bottom-right corner\n",
    "    trigger_value = 0\n",
    "    img_np[:, -4, -2] = trigger_value \n",
    "    img_np[:, -2, -2] = trigger_value \n",
    "    img_np[:, -3, -3] = trigger_value \n",
    "    img_np[:, -2, -4] = trigger_value \n",
    "\n",
    "    return torch.as_tensor(img_np)\n",
    "    \n",
    "modified_imgs = []\n",
    "modified_lbls = []\n",
    "for i in class_vc_indices:\n",
    "    img, label = clean_testset[i]\n",
    "    pimg = add_bottom_right_trigger(img)\n",
    "    modified_imgs.append(pimg) \n",
    "    modified_lbls.append(attack_target) \n",
    "\n",
    "# Show an example of a test image with the trigger\n",
    "show_pimg = modified_imgs[0]\n",
    "show_plabel = modified_lbls[0]\n",
    "plt.imshow(show_pimg.permute(1, 2, 0)) \n",
    "plt.title(f\"[original] label: {label} ('{cifar10_labels[label]}') \\n [poisoned] label: {show_plabel} ('{cifar10_labels[show_plabel]}')\")\n",
    "plt.show()"
   ]
  },
  {
   "cell_type": "code",
   "execution_count": 8,
   "metadata": {},
   "outputs": [
    {
     "name": "stdout",
     "output_type": "stream",
     "text": [
      "(only for the victim class) adv acc: 99.7%\n",
      "we need to select 1 affected images which are successfully attacked\n"
     ]
    }
   ],
   "source": [
    "normalized_imgs = [normalize(img) for img in modified_imgs]\n",
    "img_tensors = torch.stack(normalized_imgs)  \n",
    "lbl_tensors = torch.tensor(modified_lbls) \n",
    "\n",
    "only_vc_ptest_dataset = TensorDataset(img_tensors, lbl_tensors)\n",
    "victim_class_testloader = torch.utils.data.DataLoader(only_vc_ptest_dataset, batch_size=1, shuffle=False)\n",
    "\n",
    "# adv acc (the one victim class, with manipulation and modified label) ---> (This corresponds to the \"Poison Success Rate\" in the paper, the higher PSR means the poison is more successfully injected and working)\n",
    "adv_acc = calculate_accuracy(victim_model, victim_class_testloader)\n",
    "print(f\"(only for the victim class) adv acc: {adv_acc}%\")\n",
    "print(f\"we need to select {num_test_affected} affected images which are successfully attacked\")"
   ]
  },
  {
   "cell_type": "code",
   "execution_count": 9,
   "metadata": {},
   "outputs": [],
   "source": [
    "correct_indices = []\n",
    "victim_model.eval()\n",
    "with torch.inference_mode():\n",
    "    for i, (image, label) in enumerate(victim_class_testloader):\n",
    "        image, label = image.to(device), label.to(device)\n",
    "        output = victim_model(image)\n",
    "        _, predicted = torch.max(output.data, 1)\n",
    "        if predicted == label:\n",
    "            correct_indices.append(i)\n",
    "        if len(correct_indices) == num_test_affected:\n",
    "            break # pick any one actually is okay\n",
    "\n",
    "# create deletion_loader (will be used as the eval_set when calculating influence matrix)\n",
    "deletion_set = Subset(only_vc_ptest_dataset, correct_indices)\n",
    "deletion_loader_bs = 1 # make sure this is 1\n",
    "deletion_loader = torch.utils.data.DataLoader(deletion_set, batch_size=deletion_loader_bs, shuffle=False, num_workers=1)"
   ]
  },
  {
   "cell_type": "markdown",
   "metadata": {},
   "source": [
    "### Calculate original influence matrix"
   ]
  },
  {
   "cell_type": "code",
   "execution_count": 10,
   "metadata": {},
   "outputs": [],
   "source": [
    "BATCH_TYPE = Tuple[torch.Tensor, torch.Tensor]\n",
    "\n",
    "class ClassificationTask(Task):\n",
    "    def compute_train_loss(\n",
    "        self,\n",
    "        batch: BATCH_TYPE,\n",
    "        model: torch.nn.Module,\n",
    "        sample: bool = False,\n",
    "    ) -> torch.Tensor:\n",
    "        inputs, labels = batch\n",
    "        logits = model(inputs)\n",
    "        if not sample:\n",
    "            return torch.nn.functional.cross_entropy(logits, labels, reduction=\"sum\")\n",
    "        with torch.no_grad():\n",
    "            probs = torch.nn.functional.softmax(logits, dim=-1)\n",
    "            sampled_labels = torch.multinomial(\n",
    "                probs,\n",
    "                num_samples=1,\n",
    "            ).flatten()\n",
    "        return torch.nn.functional.cross_entropy(logits, sampled_labels.detach(), reduction=\"sum\")\n",
    "\n",
    "    def compute_measurement(\n",
    "        self,\n",
    "        batch: BATCH_TYPE,\n",
    "        model: torch.nn.Module,\n",
    "    ) -> torch.Tensor:\n",
    "        inputs, labels = batch\n",
    "        logits = model(inputs)\n",
    "\n",
    "        bindex = torch.arange(logits.shape[0]).to(device=logits.device, non_blocking=False)\n",
    "        logits_correct = logits[bindex, labels]\n",
    "\n",
    "        cloned_logits = logits.clone()\n",
    "        cloned_logits[bindex, labels] = torch.tensor(-torch.inf, device=logits.device, dtype=logits.dtype)\n",
    "\n",
    "        margins = logits_correct - cloned_logits.logsumexp(dim=-1)\n",
    "        return -margins.sum()"
   ]
  },
  {
   "cell_type": "code",
   "execution_count": 11,
   "metadata": {},
   "outputs": [],
   "source": [
    "# Kronfluence setup (Credits: https://github.com/pomonam/kronfluence)\n",
    "task = ClassificationTask()\n",
    "model = prepare_model(model=victim_model, task=task) # wrap the model \n",
    "# the analysis files would be saved in a folder named \"analysis\" in your working directory\n",
    "analyzer = Analyzer(analysis_name=f'delta_influence_{dataset_name}_{attack_method}_{exp}', model=model, task=task)\n",
    "\n",
    "def fit_influence_factors(train_loader):\n",
    "    # Fit all EKFAC factors for the given model\n",
    "    collected_train_data = CollectedDataset(train_loader)\n",
    "    wrapped_train_dataset = DataSetWrapper(collected_train_data)\n",
    "    analyzer.fit_all_factors(\n",
    "        factors_name=\"ekfac\",\n",
    "        dataset=wrapped_train_dataset,\n",
    "        per_device_batch_size=25,\n",
    "        factor_args=FactorArguments(strategy='ekfac'),\n",
    "        overwrite_output_dir=True,\n",
    "    )\n",
    "\n",
    "def compute_influences(train_loader, deletion_loader, score_name):\n",
    "    analyzer.compute_pairwise_scores(\n",
    "        scores_name=score_name, \n",
    "        factors_name=\"ekfac\",\n",
    "        train_dataset=train_loader,\n",
    "        query_dataset=deletion_loader,\n",
    "        per_device_query_batch_size=1, # set to 1 here\n",
    "        overwrite_output_dir=True # recalculate influence every time we call this function (neccessary in our setup since we need to calculate two influence matrices before and after alter the affected test point)\n",
    "    )\n",
    "    return analyzer.load_pairwise_scores(score_name)\n",
    "\n",
    "class DataSetWrapper(Dataset):\n",
    "    def __init__(self, dataset):\n",
    "        self.dataset = dataset\n",
    "    \n",
    "    def __len__(self):\n",
    "        return len(self.dataset)\n",
    "    \n",
    "    def __getitem__(self, idx):\n",
    "        data = self.dataset[idx]\n",
    "        return data[0], data[1]  \n",
    "    \n",
    "class CollectedDataset(Dataset):\n",
    "    # Aggregates all data into a single dataset from a DataLoader\n",
    "    def __init__(self, loader):\n",
    "        self.data = []\n",
    "        self.targets = []\n",
    "        self.additional_info = []\n",
    "\n",
    "        first_batch = next(iter(loader))\n",
    "        has_additional_info = len(first_batch) == 3\n",
    "\n",
    "        for batch in loader:\n",
    "            self.data.append(batch[0])\n",
    "            batch_targets = batch[1]\n",
    "            if batch_targets.ndim == 0:\n",
    "                batch_targets = batch_targets.unsqueeze(0) \n",
    "            self.targets.append(batch_targets)\n",
    "            if has_additional_info:\n",
    "                self.additional_info.append(batch[2])\n",
    "        \n",
    "        self.data = torch.cat(self.data, dim=0)\n",
    "        self.targets = torch.cat(self.targets, dim=0)\n",
    "        if has_additional_info:\n",
    "            self.additional_info = torch.cat(self.additional_info, dim=0)\n",
    "        else:\n",
    "            self.additional_info = None \n",
    "\n",
    "    def __len__(self):\n",
    "        return len(self.data)\n",
    "\n",
    "    def __getitem__(self, index):\n",
    "        if self.additional_info is not None:\n",
    "            return self.data[index], self.targets[index], self.additional_info[index]\n",
    "        else:\n",
    "            return self.data[index], self.targets[index]"
   ]
  },
  {
   "cell_type": "code",
   "execution_count": 12,
   "metadata": {},
   "outputs": [
    {
     "name": "stderr",
     "output_type": "stream",
     "text": [
      "Fitting covariance matrices [2000/2000] 100%|██████████ [time left: 00:00, time spent: 00:49]\n",
      "Performing Eigendecomposition [21/21] 100%|██████████ [time left: 00:00, time spent: 00:01]\n",
      "Fitting Lambda matrices [2000/2000] 100%|██████████ [time left: 00:00, time spent: 04:39]\n"
     ]
    }
   ],
   "source": [
    "wrapped_train_dataset = DataSetWrapper(CollectedDataset(poisoned_trainloader))\n",
    "wrapped_victim_dataset = DataSetWrapper(CollectedDataset(deletion_loader))\n",
    "\n",
    "# Step 0: Fitting all factors\n",
    "fit_influence_factors(poisoned_trainloader)"
   ]
  },
  {
   "cell_type": "code",
   "execution_count": 13,
   "metadata": {},
   "outputs": [
    {
     "name": "stderr",
     "output_type": "stream",
     "text": [
      "Computing pairwise scores (training gradient) [1/1] 100%|██████████ [time left: 00:00, time spent: 00:14]\n",
      "Computing pairwise scores (query gradient) [1/1] 100%|██████████ [time left: 00:00, time spent: 00:14]\n",
      "Computing pairwise scores (query gradient) [0/1]   0%|           [time left: ?, time spent: 00:00]"
     ]
    },
    {
     "name": "stderr",
     "output_type": "stream",
     "text": [
      "Computing pairwise scores (training gradient) [13/13] 100%|██████████ [time left: 00:00, time spent: 00:50]\n",
      "Computing pairwise scores (query gradient) [1/1] 100%|██████████ [time left: 00:00, time spent: 00:50]\n"
     ]
    }
   ],
   "source": [
    "# Step 1: Calculate influence scores\n",
    "old_scores_name = f\"influence_scores_{attack_method}\"\n",
    "old_scores = compute_influences(wrapped_train_dataset, wrapped_victim_dataset, old_scores_name)\n",
    "\n",
    "old_scores_save_dir = f'{repo_dir}/notebooks/{attack_method}/{dataset_name}/{exp}/scores/old_scores.npy'\n",
    "\n",
    "old_scores_ts = old_scores['all_modules']\n",
    "np.save(old_scores_save_dir, old_scores_ts)"
   ]
  },
  {
   "cell_type": "code",
   "execution_count": 14,
   "metadata": {},
   "outputs": [
    {
     "data": {
      "text/plain": [
       "(50000,)"
      ]
     },
     "execution_count": 14,
     "metadata": {},
     "output_type": "execute_result"
    }
   ],
   "source": [
    "# load calculated scores (you can directly load the old scores (as well as the later new scores) we calculated in this example to save your time)\n",
    "old_scores = np.load(old_scores_save_dir)\n",
    "old_scores_ts = torch.tensor(old_scores)\n",
    "\n",
    "manip_idx_arr = manip_idx\n",
    "old_scores_matrix = old_scores_ts.squeeze().numpy()\n",
    "old_scores_matrix.shape"
   ]
  },
  {
   "cell_type": "markdown",
   "metadata": {},
   "source": [
    "### Alter the affected test point to get delta influence matrix\n",
    "1. modify the image with random transformation\n",
    "2. randomly change its label to another one"
   ]
  },
  {
   "cell_type": "code",
   "execution_count": 15,
   "metadata": {},
   "outputs": [
    {
     "name": "stdout",
     "output_type": "stream",
     "text": [
      "the attack target is 5\n"
     ]
    }
   ],
   "source": [
    "class CustomDataset(Dataset):\n",
    "    def __init__(self, images, targets):\n",
    "        self.images = images\n",
    "        self.targets = targets\n",
    "\n",
    "    def __len__(self):\n",
    "        return len(self.images)\n",
    "\n",
    "    def __getitem__(self, idx):\n",
    "        return self.images[idx], self.targets[idx]\n",
    "\n",
    "def color_switch(img):\n",
    "    permuted_img = img.clone()  # Clone the image to avoid modifying the original\n",
    "    permuted_img[0], permuted_img[1] = img[1], img[0]  # Swap red and green channels\n",
    "    return permuted_img\n",
    "\n",
    "def randomize_targets(n_boosting, attack_target):\n",
    "  \"\"\"\n",
    "  Generates a list of n random numbers from 0 to 9, excluding the attack_target.\n",
    "  \"\"\"\n",
    "\n",
    "  random_numbers = []\n",
    "  while len(random_numbers) < n_boosting:\n",
    "    num = random.randint(0, num_classes-1)\n",
    "    if num != attack_target:\n",
    "      random_numbers.append(num)\n",
    "  return random_numbers    \n",
    "\n",
    "print(f\"the attack target is {attack_target}\")"
   ]
  },
  {
   "cell_type": "code",
   "execution_count": 16,
   "metadata": {},
   "outputs": [],
   "source": [
    "def random_transform_images(loader):\n",
    "    transformed_images = []\n",
    "    randomized_targets = []\n",
    "    transforms_applied = []\n",
    "\n",
    "    randomized_targets = randomize_targets(n_boosting, attack_target)\n",
    "    print(f\"randomized_targets: {randomized_targets}\")\n",
    "\n",
    "    for img, target in loader: # only one victim image here\n",
    "        # Define your transformations\n",
    "        flip = transforms.functional.hflip\n",
    "        color_jitter = transforms.ColorJitter(\n",
    "            brightness=(0.9, 1.1),  # Brightness change from 90% to 110%\n",
    "            contrast=(0.9, 1.1),    # Contrast change from 90% to 110%\n",
    "            saturation=(0.6, 1.4),  # Saturation change from 60% to 140%\n",
    "            hue=(-0.1, 0.1)         # Hue change from -10% to 10%\n",
    "        )\n",
    "        random_affine = transforms.RandomAffine(degrees=(-180, 180), scale=(1, 2), shear=10)\n",
    "        elastic = transforms.ElasticTransform(alpha=150.0)\n",
    "        blurrer = transforms.GaussianBlur(kernel_size=(5, 9), sigma=(8., 10.))\n",
    "        inverter = transforms.RandomInvert(p=1.0)\n",
    "        transformations = ['flip', 'color_jitter', 'random_affine', 'elastic', 'blurrer', 'inverter', 'color_switch']\n",
    "\n",
    "        img = img.squeeze()\n",
    "\n",
    "        # Randomly choose one transformation one time\n",
    "        # synthesize some old-new pairs to get the delta influence matrix (as described in algorithm 1 in the paper)\n",
    "        for i in range(n_boosting): \n",
    "            selected_transform = random.choice(transformations)\n",
    "            transforms_applied.append(selected_transform)\n",
    "\n",
    "            if selected_transform == 'flip':\n",
    "                transformed_img = flip(img)\n",
    "            elif selected_transform == 'color_jitter':\n",
    "                transformed_img = color_jitter(img)\n",
    "            elif selected_transform == 'random_affine':\n",
    "                transformed_img = random_affine(img)\n",
    "            elif selected_transform == 'elastic':\n",
    "                transformed_img = elastic(img)\n",
    "            elif selected_transform == 'blurrer':\n",
    "                transformed_img = blurrer(img)\n",
    "            elif selected_transform == 'inverter':\n",
    "                transformed_img = inverter(img)\n",
    "            elif selected_transform == 'color_switch':\n",
    "                transformed_img = color_switch(img)\n",
    "            else:\n",
    "                raise(\"Unknown Transformation\")\n",
    "            \n",
    "            transformed_images.append(transformed_img)\n",
    "\n",
    "    transformed_dataset = CustomDataset(transformed_images, randomized_targets)  \n",
    "    return torch.utils.data.DataLoader(transformed_dataset, batch_size=1, shuffle=False) , transforms_applied, transformed_images, randomized_targets"
   ]
  },
  {
   "cell_type": "code",
   "execution_count": 17,
   "metadata": {},
   "outputs": [
    {
     "name": "stdout",
     "output_type": "stream",
     "text": [
      "randomized_targets: [0, 0, 7, 8, 3, 6, 7, 4, 3, 9, 7, 3, 2, 6, 4, 7, 0, 9, 3, 3, 8, 2, 7, 6, 3, 0, 9, 4, 1, 2, 3, 2, 9, 4, 7, 8, 3, 8, 0, 8, 7, 6, 7, 3, 9, 6, 6, 3, 1, 2]\n"
     ]
    }
   ],
   "source": [
    "mm_loader, mm_transforms, mm_dataset, mm_targets = random_transform_images(deletion_loader)"
   ]
  },
  {
   "cell_type": "code",
   "execution_count": 18,
   "metadata": {},
   "outputs": [
    {
     "name": "stderr",
     "output_type": "stream",
     "text": [
      "Clipping input data to the valid range for imshow with RGB data ([0..1] for floats or [0..255] for integers).\n",
      "Clipping input data to the valid range for imshow with RGB data ([0..1] for floats or [0..255] for integers).\n",
      "Clipping input data to the valid range for imshow with RGB data ([0..1] for floats or [0..255] for integers).\n",
      "Clipping input data to the valid range for imshow with RGB data ([0..1] for floats or [0..255] for integers).\n",
      "Clipping input data to the valid range for imshow with RGB data ([0..1] for floats or [0..255] for integers).\n",
      "Clipping input data to the valid range for imshow with RGB data ([0..1] for floats or [0..255] for integers).\n",
      "Clipping input data to the valid range for imshow with RGB data ([0..1] for floats or [0..255] for integers).\n",
      "Clipping input data to the valid range for imshow with RGB data ([0..1] for floats or [0..255] for integers).\n",
      "Clipping input data to the valid range for imshow with RGB data ([0..1] for floats or [0..255] for integers).\n"
     ]
    },
    {
     "data": {
      "image/png": "[encoded data removed]",
      "text/plain": [
       "<Figure size 3600x1200 with 10 Axes>"
      ]
     },
     "metadata": {},
     "output_type": "display_data"
    }
   ],
   "source": [
    "def mm_show_images_from_dataloader(dataloader, num_images=10): \n",
    "    plt.figure(figsize=(36, 12))\n",
    "    iterator = iter(dataloader)\n",
    "    for i in range(num_images):  \n",
    "        image, label = next(iterator) \n",
    "        img = image.squeeze()\n",
    "        img = img.permute(1, 2, 0).numpy()\n",
    "        plt.subplot(1, num_images, i+1)\n",
    "        plt.imshow(img)\n",
    "        plt.axis('off')\n",
    "        plt.title(f\"({mm_targets[i]}: {cifar10_labels[mm_targets[i]]}) [{mm_transforms[i]}]\")\n",
    "    plt.show()\n",
    "    \n",
    "mm_show_images_from_dataloader(mm_loader, 10)"
   ]
  },
  {
   "cell_type": "code",
   "execution_count": null,
   "metadata": {},
   "outputs": [],
   "source": [
    "# start calculating\n",
    "wrapped_mm_aux_dataset = DataSetWrapper(CollectedDataset(mm_loader))\n",
    "aux_mm_scores_name = f\"aux_mm_scores_{attack_method}\"\n",
    "aux_mm_scores = compute_influences(wrapped_train_dataset, wrapped_mm_aux_dataset, aux_mm_scores_name)"
   ]
  },
  {
   "cell_type": "code",
   "execution_count": 43,
   "metadata": {},
   "outputs": [],
   "source": [
    "aux_mm_scores_save_dir = f'{repo_dir}/notebooks/{attack_method}/{dataset_name}/{exp}/scores/MM_aux_{n_boosting}_scores.npy'\n",
    "\n",
    "# Save the scores\n",
    "aux_mm_scores_ts = aux_mm_scores['all_modules']\n",
    "np.save(aux_mm_scores_save_dir, aux_mm_scores_ts)"
   ]
  },
  {
   "cell_type": "code",
   "execution_count": 77,
   "metadata": {},
   "outputs": [
    {
     "data": {
      "text/plain": [
       "(50, 50000)"
      ]
     },
     "execution_count": 77,
     "metadata": {},
     "output_type": "execute_result"
    }
   ],
   "source": [
    "aux_mm_scores_save_dir = f'{repo_dir}/notebooks/{attack_method}/{dataset_name}/{exp}/scores/MM_aux_{n_boosting}_scores.npy'\n",
    "# Load the saved scores\n",
    "aux_mm_scores_ts = np.load(aux_mm_scores_save_dir)\n",
    "# Process the scores if necessary\n",
    "aux_mm_scores_matrix = aux_mm_scores_ts.squeeze()"
   ]
  },
  {
   "cell_type": "code",
   "execution_count": 90,
   "metadata": {},
   "outputs": [
    {
     "data": {
      "text/plain": [
       "(50, 50000)"
      ]
     },
     "execution_count": 90,
     "metadata": {},
     "output_type": "execute_result"
    }
   ],
   "source": [
    "\"\"\" The only two hyper params \"\"\"\n",
    "th = 0 \n",
    "n_tolerate = 2 \n",
    "\n",
    "all_indices = np.arange(0, 50000).tolist()\n",
    "boosted_change_scores_matrix = aux_mm_scores_matrix - old_scores_matrix\n",
    "boosted_change_scores_matrix.shape"
   ]
  },
  {
   "cell_type": "code",
   "execution_count": 91,
   "metadata": {},
   "outputs": [
    {
     "name": "stdout",
     "output_type": "stream",
     "text": [
      "Count of negative values in each column: [37 38 45 ... 16 44  4]\n",
      " The algorithm returns 3265 poisons...\n",
      "\n",
      " among them 500 are true poisons (there're 500 poisons in total -> [100.00%] detected) \n",
      "\n",
      " their indices: [40963, 34825, 14348, 38927, 6160, 2065, 8214, 40983, 10268, 49182, 49195, 8250, 4159, 49220, 47179, 6219, 10317, 8278, 30807, 14427, 34910, 26720, 43119, 18546, 20594, 10354, 10361, 20604, 43136, 37002, 30860, 41112, 14497, 2212, 49321, 24748, 10416, 22712, 47291, 6143, 4287, 8384, 12481, 39106, 193, 12490, 4298, 22736, 37072, 35036, 2272, 20705, 49378, 30948, 22758, 8429, 24821, 14581, 2298, 41218, 18691, 20739, 35078, 22791, 12557, 47373, 45327, 39191, 39193, 2333, 47395, 26923, 28985, 6459, 4412, 31037, 16716, 43350, 10585, 2395, 31069, 8544, 353, 35177, 29055, 31104, 45447, 43400, 10639, 49553, 31121, 29075, 18840, 31131, 41373, 49571, 39335, 43432, 39336, 45486, 27061, 31170, 35266, 33225, 459, 18892, 465, 31188, 33240, 8665, 2523, 12772, 14821, 8678, 14826, 25072, 37362, 29175, 20984, 49657, 47610, 2558, 39424, 21005, 27153, 39442, 10775, 49697, 35361, 21028, 41509, 39462, 2603, 39468, 35374, 49712, 45617, 10810, 574, 12866, 585, 41555, 596, 31327, 2663, 14969, 31354, 33410, 21123, 29316, 31362, 47746, 6788, 19081, 39563, 29328, 25238, 39577, 43674, 10906, 27293, 47780, 15015, 47784, 39593, 17066, 2732, 47793, 37555, 19123, 39605, 19132, 37567, 45760, 47807, 47822, 19152, 10965, 4823, 13015, 19167, 4834, 25320, 23272, 49905, 4852, 2805, 33533, 4863, 6912, 2820, 23301, 45830, 35593, 17167, 13072, 31511, 15135, 41761, 6948, 2857, 27436, 15164, 6974, 2879, 21312, 19269, 45898, 35663, 2914, 9063, 19309, 43889, 2934, 39802, 4995, 41867, 43916, 909, 35726, 19342, 27536, 23454, 29598, 45985, 21414, 48044, 19379, 25524, 46012, 7108, 21444, 19398, 9160, 7112, 21451, 31692, 31695, 48081, 19413, 5078, 41950, 33760, 31714, 25577, 21483, 48107, 48125, 48127, 15367, 19464, 33802, 23573, 33815, 35864, 27674, 44059, 25629, 46111, 39971, 48164, 46120, 27692, 44083, 46138, 1087, 33861, 31814, 37959, 35911, 11345, 11352, 38002, 25717, 48247, 48249, 25725, 48253, 25728, 15490, 5251, 25737, 23693, 21646, 7310, 15504, 29850, 25760, 21664, 5283, 21667, 31915, 29868, 44213, 29882, 48316, 40136, 31950, 9426, 40147, 21716, 23766, 27864, 7387, 1250, 40169, 31981, 34030, 19696, 17654, 15607, 23799, 48379, 21762, 42245, 42247, 23818, 27919, 9490, 13587, 7443, 17696, 5416, 44333, 13616, 27955, 3380, 32051, 9527, 48440, 21823, 17729, 21830, 48457, 48459, 5452, 3406, 3419, 48475, 42333, 17758, 21862, 28012, 5487, 42359, 34171, 9599, 38274, 28037, 1416, 23946, 3468, 46479, 21905, 11665, 17813, 13720, 46498, 28066, 46499, 46505, 13738, 30123, 38315, 9645, 9648, 26038, 48569, 3518, 9664, 21953, 9669, 3529, 21972, 9693, 19937, 42477, 21998, 13808, 34295, 34296, 32265, 42506, 19979, 38412, 7693, 9747, 44570, 3614, 3624, 36405, 30262, 48698, 26170, 48700, 38460, 24127, 44615, 32331, 42574, 1617, 3670, 5730, 40547, 34404, 5732, 42607, 1649, 7794, 9844, 46710, 38523, 18045, 44672, 3720, 5787, 40609, 28323, 34468, 16049, 1720, 30398, 32448, 9922, 26306, 7876, 38599, 36553, 11977, 42699, 26316, 9935, 32465, 18132, 34522, 34523, 48871, 18153, 1771, 46829, 16121, 22268, 20227, 46854, 24328, 48905, 26381, 16147, 28436, 44822, 10016, 38689, 16161, 48936, 30508, 12092, 1853, 30533, 42826, 40778, 44880, 44882, 12115, 1877, 8022, 46937, 46938, 18266, 24412, 34657, 8045, 24438, 10103, 26487, 34681, 16259, 24456, 18312, 3978, 20360, 12175, 28562, 47000, 4003, 32676, 32691, 14260, 10171, 4029, 38850, 38857, 42957, 32728, 26590, 24554, 20466, 24563, 47091, 38901, 26623]\n",
      "\n",
      " the other 2765 are actually cleans...\n"
     ]
    }
   ],
   "source": [
    "boolean_matrix = boosted_change_scores_matrix[:, all_indices] < th \n",
    "negative_counts_per_column = boolean_matrix.sum(axis=0)\n",
    "# print(\"Count of negative values in each column:\", negative_counts_per_column)\n",
    "\n",
    "detected = torch.tensor(negative_counts_per_column >= (boosted_change_scores_matrix.shape[0]-n_tolerate))\n",
    "temp_index = np.where(detected)[0]\n",
    "all_indices_np = np.array(all_indices)\n",
    "detected_idx = all_indices_np[temp_index]\n",
    "\n",
    "# How many true positives hit:\n",
    "set1 = set(detected_idx.tolist())\n",
    "set2 = set(manip_idx_arr.tolist())\n",
    "\n",
    "common_elements = set1.intersection(set2)\n",
    "common_tensor = torch.tensor(list(common_elements))\n",
    "\n",
    "print(f\" The algorithm returns {torch.sum(detected)} poisons...\\n\")\n",
    "print(f\" among them {len(common_tensor)} are true poisons (there're {len(manip_idx)} poisons in total -> [{(len(common_tensor)/(len(manip_idx)/100)):.2f}%] detected) \\n\\n their indices: {common_tensor.tolist()}\\n\")\n",
    "print(f\" the other {torch.sum(detected) - len(common_tensor)} are actually cleans...\")"
   ]
  },
  {
   "cell_type": "code",
   "execution_count": 92,
   "metadata": {},
   "outputs": [],
   "source": [
    "detected_idx_ts = torch.tensor(detected_idx)\n",
    "# save the detected indices\n",
    "detected_save_dir = f'{repo_dir}/notebooks/{attack_method}/{dataset_name}/{exp}/detected/aux_MM_{n_boosting}_detected_indices.npy'\n",
    "print(f\"detected_save_dir: {detected_save_dir}\")\n",
    "np.save(detected_save_dir, detected_idx_ts)"
   ]
  },
  {
   "cell_type": "code",
   "execution_count": 93,
   "metadata": {},
   "outputs": [],
   "source": [
    "# realease torch cache\n",
    "torch.cuda.empty_cache()"
   ]
  }
 ],
 "metadata": {
  "kernelspec": {
   "display_name": "display-influence",
   "language": "python",
   "name": "influence"
  }
 },
 "nbformat": 4,
 "nbformat_minor": 2
}
