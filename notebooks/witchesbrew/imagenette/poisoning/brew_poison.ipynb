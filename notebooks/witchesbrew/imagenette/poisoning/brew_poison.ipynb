{
 "cells": [
  {
   "cell_type": "markdown",
   "metadata": {},
   "source": [
    "Brew poison for imagenette"
   ]
  },
  {
   "cell_type": "code",
   "execution_count": 2,
   "metadata": {},
   "outputs": [],
   "source": [
    "!cd /data/xxx/github/poisoning-gradient-matching\n",
    "!python brew_poison.py --dataset 'Imagenette' --budget 0.1 --eps 16 --restarts 2 --save 'full' --pbatch 512 --table_path '/data/xxx/github/poisoning-gradient-matching/open_source/wichesbrew/imagenette/exp01/table/' --poison_path '/data/xxx/github/poisoning-gradient-matching/open_source/wichesbrew/imagenette/exp01/poisons/' --data_path '/data/xxx/github/poisoning-gradient-matching/open_source/wichesbrew/imagenette/exp01/data' --model_path '/data/xxx/github/poisoning-gradient-matching/open_source/wichesbrew/imagenette/exp01/models'"
   ]
  }
 ],
 "metadata": {
  "kernelspec": {
   "display_name": "display-influence",
   "language": "python",
   "name": "influence"
  }
 },
 "nbformat": 4,
 "nbformat_minor": 2
}
